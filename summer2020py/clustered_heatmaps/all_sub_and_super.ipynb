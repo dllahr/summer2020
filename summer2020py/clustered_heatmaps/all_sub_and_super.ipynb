{
 "cells": [
  {
   "cell_type": "code",
   "execution_count": null,
   "id": "f42451cd",
   "metadata": {},
   "outputs": [],
   "source": [
    "%matplotlib notebook\n",
    "\n",
    "import cmapPy.pandasGEXpress.parse\n",
    "\n",
    "import cmapPy.math.fast_corr\n",
    "\n",
    "import plotly.express as pltexpr\n",
    "\n",
    "import sklearn.cluster\n",
    "\n",
    "import pandas as pd\n",
    "\n",
    "import numpy\n",
    "\n",
    "from matplotlib import pyplot as plt\n",
    "\n",
    "from scipy.cluster.hierarchy import dendrogram\n",
    "\n",
    "import scipy.cluster.hierarchy\n",
    "\n",
    "import json"
   ]
  },
  {
   "cell_type": "code",
   "execution_count": null,
   "id": "d0f21a62",
   "metadata": {},
   "outputs": [],
   "source": [
    "gctoo = cmapPy.pandasGEXpress.parse.parse(\"2020_Q3_Achilles_CCLE_expression_r19144x1305.gctx\")\n",
    "print(gctoo)"
   ]
  },
  {
   "cell_type": "code",
   "execution_count": null,
   "id": "17cd2cfc",
   "metadata": {},
   "outputs": [],
   "source": [
    "numpy_df = gctoo.data_df.to_numpy()\n",
    "\n",
    "result = cmapPy.math.fast_corr.fast_corr(numpy_df)"
   ]
  },
  {
   "cell_type": "code",
   "execution_count": null,
   "id": "af8037bf",
   "metadata": {},
   "outputs": [],
   "source": [
    "def plot_dendrogram(model, **kwargs):\n",
    "    # Create linkage matrix and then plot the dendrogram\n",
    "\n",
    "    # create the counts of samples under each node\n",
    "    counts = numpy.zeros(model.children_.shape[0])\n",
    "    n_samples = len(model.labels_)\n",
    "    for i, merge in enumerate(model.children_):\n",
    "        current_count = 0\n",
    "        for child_idx in merge:\n",
    "            if child_idx < n_samples:\n",
    "                current_count += 1  # leaf node\n",
    "            else:\n",
    "                current_count += counts[child_idx - n_samples]\n",
    "        counts[i] = current_count\n",
    "\n",
    "    linkage_matrix = numpy.column_stack([model.children_, model.distances_,\n",
    "                                      counts]).astype(float)\n",
    "    \n",
    "    print(linkage_matrix)\n",
    "\n",
    "    # Plot the corresponding dendrogram\n",
    "    r_dict = dendrogram(linkage_matrix, **kwargs)\n",
    "\n",
    "    \n",
    "    \n",
    "    return linkage_matrix, list(map(int, r_dict[\"ivl\"])), r_dict[\"leaves\"]\n",
    "\n",
    "# from https://scikit-learn.org/stable/auto_examples/cluster/plot_agglomerative_dendrogram.html#sphx-glr-auto-examples-cluster-plot-agglomerative-dendrogram-py"
   ]
  },
  {
   "cell_type": "code",
   "execution_count": null,
   "id": "e9887d6b",
   "metadata": {
    "scrolled": false
   },
   "outputs": [],
   "source": [
    "fig, axs = plt.subplots(3,1)"
   ]
  },
  {
   "cell_type": "code",
   "execution_count": null,
   "id": "4d159479",
   "metadata": {},
   "outputs": [],
   "source": [
    "AffinityProp = sklearn.cluster.AffinityPropagation(affinity = \"precomputed\").fit(result)\n",
    "\n",
    "print(AffinityProp)"
   ]
  },
  {
   "cell_type": "code",
   "execution_count": null,
   "id": "f81318d9",
   "metadata": {
    "scrolled": true
   },
   "outputs": [],
   "source": [
    "print(list(AffinityProp.labels_))"
   ]
  },
  {
   "cell_type": "code",
   "execution_count": null,
   "id": "f3baa2e0",
   "metadata": {},
   "outputs": [],
   "source": [
    "result_df = pd.DataFrame(result)\n",
    "\n",
    "labels_df = pd.DataFrame(AffinityProp.labels_)\n",
    "labels_df.rename(columns = {0:1305}, inplace = True)\n",
    "\n",
    "transposed_labels_df = labels_df.transpose()\n",
    "\n",
    "transposed_labels_df.insert(1305, 1305, 20000)\n",
    "\n",
    "print(result_df)\n",
    "print(labels_df)\n",
    "print(transposed_labels_df)\n",
    "\n",
    "column_label_df = result_df.join(labels_df)\n",
    "\n",
    "label_df = column_label_df.append(transposed_labels_df, ignore_index=True)\n",
    "\n",
    "print(label_df)\n",
    "\n",
    "col_sorted = label_df.sort_values(1305)\n",
    "\n",
    "sorted_df = col_sorted.sort_values(1305, axis = 1)\n",
    "\n",
    "print(col_sorted)\n",
    "print(sorted_df)\n",
    "\n",
    "sorted_df = sorted_df.drop(1305, axis = 0)\n",
    "sorted_df = sorted_df.drop(1305, axis = 1)\n",
    "\n",
    "print(sorted_df)\n",
    "\n"
   ]
  },
  {
   "cell_type": "code",
   "execution_count": null,
   "id": "8e38ab6f",
   "metadata": {},
   "outputs": [],
   "source": [
    "cluster_centers = []\n",
    "\n",
    "print(AffinityProp.cluster_centers_indices_)\n",
    "for i in range (0, len(AffinityProp.cluster_centers_indices_)):\n",
    "    cluster_centers.append(result[AffinityProp.cluster_centers_indices_[i]])"
   ]
  },
  {
   "cell_type": "code",
   "execution_count": null,
   "id": "e7dfeff0",
   "metadata": {},
   "outputs": [],
   "source": [
    "ward_super_clusters = sklearn.cluster.AgglomerativeClustering(affinity = \"euclidean\", n_clusters = 71, linkage = \"average\", compute_full_tree = True, compute_distances = True).fit(cluster_centers)"
   ]
  },
  {
   "cell_type": "code",
   "execution_count": null,
   "id": "2eb6f080",
   "metadata": {
    "scrolled": true
   },
   "outputs": [],
   "source": [
    "super_linkage_matrix, super_dendro_labels, super_leaves = plot_dendrogram(ward_super_clusters, truncate_mode='level', p=51, distance_sort = \"ascending\", ax=axs[0])\n",
    "plt.show()"
   ]
  },
  {
   "cell_type": "code",
   "execution_count": null,
   "id": "235051fb",
   "metadata": {},
   "outputs": [],
   "source": [
    "print(super_dendro_labels)\n",
    "\n",
    "super_dendro_labels_index = []\n",
    "\n",
    "for i in range(0, len(super_dendro_labels)):\n",
    "    super_dendro_labels_index.append(super_dendro_labels.index(i))\n",
    "    \n",
    "\n",
    "print(super_dendro_labels_index)\n",
    "print(AffinityProp.cluster_centers_indices_)"
   ]
  },
  {
   "cell_type": "code",
   "execution_count": null,
   "id": "858e9a1f",
   "metadata": {},
   "outputs": [],
   "source": [
    "print(label_df)\n",
    "\n",
    "#list comperhension \n",
    "#then add col\n",
    "\n",
    "\n",
    "for i in range(0, 1306):\n",
    "    val = label_df.loc[i, (1305)]\n",
    "    if val != 20000:\n",
    "        label_df.loc[i, (1305)] = super_dendro_labels_index[val]\n",
    "        label_df.loc[1305, (i)] = super_dendro_labels_index[val]\n",
    "    \n",
    "    \n",
    "    \n",
    "super_col_sorted = label_df.sort_values(1305)\n",
    "\n",
    "super_sorted_df = super_col_sorted.sort_values(1305, axis = 1)\n",
    "\n",
    "print(super_col_sorted)\n",
    "print(super_sorted_df)\n",
    "\n",
    "with_labels_super_sorted_df = super_sorted_df\n",
    "\n",
    "super_sorted_df = super_sorted_df.drop(1305, axis = 0)\n",
    "super_sorted_df = super_sorted_df.drop(1305, axis = 1)\n",
    "\n",
    "print(super_sorted_df)"
   ]
  },
  {
   "cell_type": "code",
   "execution_count": null,
   "id": "e29cbe7d",
   "metadata": {},
   "outputs": [],
   "source": [
    "#df_super_linkage_matrix[4] == numpy.NaN\n",
    "#current_sub_df = df_super_linkage_matrix.loc[df_super_linkage_matrix[0] == current_sub]\n",
    "#if current_sub_df.shape[0] != 1:\n",
    "    #current_sub_df = current_sub_df.loc[current_sub_df[4] == numpy.NaN]\n",
    "    #if current_sub_df.shape[0] != 1:\n",
    "        #current_sub_df = current_sub_df.loc[current_sub_df[5] == numpy.NaN]\n",
    "    \n",
    "#print(current_sub_df)\n",
    "\n"
   ]
  },
  {
   "cell_type": "code",
   "execution_count": null,
   "id": "c78fa425",
   "metadata": {},
   "outputs": [],
   "source": [
    "df_super_linkage_matrix = pd.DataFrame(super_linkage_matrix) "
   ]
  },
  {
   "cell_type": "code",
   "execution_count": null,
   "id": "52c5e844",
   "metadata": {},
   "outputs": [],
   "source": [
    "print(df_super_linkage_matrix)"
   ]
  },
  {
   "cell_type": "code",
   "execution_count": null,
   "id": "35b8790c",
   "metadata": {},
   "outputs": [],
   "source": [
    " for i in range(0, len(df_super_linkage_matrix)):\n",
    "        zero_leaf = df_super_linkage_matrix.loc[i, 0]\n",
    "        one_leaf = df_super_linkage_matrix.loc[i, 1]\n",
    "        if zero_leaf < len(super_dendro_labels_index):\n",
    "            df_super_linkage_matrix.at[i, 0] = super_dendro_labels_index[int(zero_leaf)]\n",
    "        if one_leaf < len(super_dendro_labels_index):\n",
    "            df_super_linkage_matrix.at[i, 1] = super_dendro_labels_index[int(one_leaf)]"
   ]
  },
  {
   "cell_type": "code",
   "execution_count": null,
   "id": "c645f9e4",
   "metadata": {},
   "outputs": [],
   "source": [
    "\n",
    "df_super_linkage_matrix[4] = numpy.NaN\n",
    "df_super_linkage_matrix[5] = numpy.NaN\n",
    "\n",
    "#adding 4 to dist values of app super matrix \n",
    "df_super_linkage_matrix[2] = df_super_linkage_matrix[2] + 4"
   ]
  },
  {
   "cell_type": "code",
   "execution_count": null,
   "id": "93315eb7",
   "metadata": {},
   "outputs": [],
   "source": [
    "print(df_super_linkage_matrix)\n",
    "\n",
    "for row in df_super_linkage_matrix.iterrows():\n",
    "    print(row)"
   ]
  },
  {
   "cell_type": "code",
   "execution_count": null,
   "id": "02dfcbf4",
   "metadata": {},
   "outputs": [],
   "source": [
    "total_linkage_matrix = df_super_linkage_matrix"
   ]
  },
  {
   "cell_type": "code",
   "execution_count": null,
   "id": "71e5e4f6",
   "metadata": {},
   "outputs": [],
   "source": [
    "sorted_with_labels = super_col_sorted.sort_values(1305, axis = 1)"
   ]
  },
  {
   "cell_type": "code",
   "execution_count": null,
   "id": "ad830709",
   "metadata": {},
   "outputs": [],
   "source": [
    "abnormal_dist = []"
   ]
  },
  {
   "cell_type": "code",
   "execution_count": null,
   "id": "90e5aa05",
   "metadata": {},
   "outputs": [],
   "source": [
    "def prepare_where(df_super_linkage_matrix, current_sub):\n",
    "    try:\n",
    "        where = df_super_linkage_matrix.loc[df_super_linkage_matrix[0] == current_sub]\n",
    "        if where.shape[0] != 1:\n",
    "            where = where.loc[where[4] == numpy.NaN]\n",
    "            if where.shape[0] != 1:\n",
    "                where = where.loc[where[5] == numpy.NaN]\n",
    "        where_col = 0\n",
    "        not_where = 1\n",
    "        where.index[0]\n",
    "        \n",
    "    except IndexError:\n",
    "        where = df_super_linkage_matrix.loc[df_super_linkage_matrix[1] == current_sub]\n",
    "        if where.shape[0] != 1:\n",
    "            where = where.loc[where[4] == numpy.NaN]\n",
    "            if where.shape[0] != 1:\n",
    "                where = where.loc[where[5] == numpy.NaN]\n",
    "        where_col = 1\n",
    "        not_where = 0\n",
    "        \n",
    "    if current_sub == 59:\n",
    "        print(\"WHERE\")\n",
    "        print(where)\n",
    "        \n",
    "    return where, where_col, not_where"
   ]
  },
  {
   "cell_type": "code",
   "execution_count": null,
   "id": "7ba372ac",
   "metadata": {},
   "outputs": [],
   "source": [
    "#probably best to put all the handy values into a dict or something so I don't need to have a large amount of arguments\n",
    "\n",
    "def prepare_sub_matrix(len_sub, df_sub_linkage_matrix, new_location, new_cluster, current_sub, len_super):\n",
    "    for i in range(0, len_sub):\n",
    "        zero_leaf = df_sub_linkage_matrix.loc[i, 0]\n",
    "        one_leaf = df_sub_linkage_matrix.loc[i, 1]\n",
    "        if zero_leaf >= n_sub_samples:\n",
    "            df_sub_linkage_matrix.at[i, 0] = zero_leaf + len_super  + new_location\n",
    "\n",
    "        else:\n",
    "            df_sub_linkage_matrix[4][i] = sub_cluster.index[int(zero_leaf)]\n",
    "            df_sub_linkage_matrix.at[i, 0] = new_cluster\n",
    "            new_cluster += 1\n",
    "\n",
    "        if one_leaf >= n_sub_samples:\n",
    "            df_sub_linkage_matrix.at[i, 1] = one_leaf  + len_super + new_location\n",
    "\n",
    "\n",
    "        else:\n",
    "            df_sub_linkage_matrix[5][i] = sub_cluster.index[int(one_leaf)]\n",
    "            df_sub_linkage_matrix.at[i, 1] = new_cluster\n",
    "            new_cluster += 1\n",
    "\n",
    "    #set the greatest value = to 1\n",
    "    #that is the sample name that was replaced so this is done to aviod dupes\n",
    "    \n",
    "    for i in range(0, len(df_sub_linkage_matrix)):\n",
    "        if df_sub_linkage_matrix.loc[i, 0] == len_super:\n",
    "            df_sub_linkage_matrix.at[i, 0] = current_sub\n",
    "            \n",
    "\n",
    "        if df_sub_linkage_matrix.loc[i, 1] == len_super:\n",
    "            df_sub_linkage_matrix.at[i, 1] = current_sub\n",
    "        \n",
    "    #change index to be index of where it is going\n",
    "    df_sub_linkage_matrix.index = df_sub_linkage_matrix.index + new_location\n",
    "    \n",
    "    if current_sub == 59:\n",
    "        print(\"df_sub_linkage_matrix\")\n",
    "        print(df_sub_linkage_matrix)\n",
    "    \n",
    "    return df_sub_linkage_matrix\n",
    "    "
   ]
  },
  {
   "cell_type": "code",
   "execution_count": null,
   "id": "c4972ba5",
   "metadata": {},
   "outputs": [],
   "source": [
    "def prepare_super(len_super, df_super_linkage_matrix, len_sub, new_location):\n",
    "        #change super cluster so sub cluster can be added \n",
    "    for i in range(0, len_super):\n",
    "        \n",
    "        zero_leaf = df_super_linkage_matrix.loc[i, 0]\n",
    "        one_leaf = df_super_linkage_matrix.loc[i, 1]\n",
    "\n",
    "        if zero_leaf >= n_super_samples:\n",
    "            if zero_leaf - n_super_samples < new_location:\n",
    "                df_super_linkage_matrix.at[i, 0] = df_super_linkage_matrix.loc[i, 0] + len_sub\n",
    "            else:\n",
    "                df_super_linkage_matrix.at[i, 0] = df_super_linkage_matrix.loc[i, 0] + (2 * len_sub) \n",
    "\n",
    "        if one_leaf >= n_super_samples:\n",
    "            if one_leaf - n_super_samples < new_location:\n",
    "                df_super_linkage_matrix.at[i, 1] = df_super_linkage_matrix.loc[i, 1] + len_sub\n",
    "            else:\n",
    "                df_super_linkage_matrix.at[i, 1] = df_super_linkage_matrix.loc[i, 1] + (2 * len_sub) \n",
    "                \n",
    "    #drop where row and change indexs to prepare for append \n",
    "    df_super_linkage_matrix.drop(new_location, inplace = True)\n",
    "    \n",
    "    if current_sub == 59:\n",
    "        print(\"df_super_linkage_matrix\")\n",
    "        print(df_super_linkage_matrix)\n",
    "    \n",
    "    return df_super_linkage_matrix"
   ]
  },
  {
   "cell_type": "code",
   "execution_count": null,
   "id": "87488003",
   "metadata": {
    "scrolled": true
   },
   "outputs": [],
   "source": [
    "for current_sub in range(0, len(super_dendro_labels_index)):\n",
    "    #get all the values in the current sub cluster\n",
    "    \n",
    "    print(\"CURRENT SUB\")\n",
    "    print(current_sub)\n",
    "    \n",
    "    \n",
    "    sub_cluster = sorted_with_labels.loc[sorted_with_labels[1305] == current_sub]\n",
    "    \n",
    "    # run ward\n",
    "    ward_sub_cluster = sklearn.cluster.AgglomerativeClustering(affinity = \"euclidean\", n_clusters = len(sub_cluster)-1, linkage = \"average\", compute_full_tree = True, compute_distances = True).fit(sub_cluster)\n",
    "    \n",
    "    \n",
    "    sub_linkage_matrix, sub_dendro_labels, sub_leaves = plot_dendrogram(ward_sub_cluster, truncate_mode='level', p=51, distance_sort = \"ascending\", ax= axs[1])\n",
    "    plt.show()\n",
    "\n",
    "    df_super_linkage_matrix = total_linkage_matrix \n",
    "    \n",
    "    #make them dataframes since they are better to work with\n",
    "    #df_super_linkage_matrix = pd.DataFrame(super_linkage_matrix) \n",
    "    #df_super_linkage_matrix[4] = numpy.NaN\n",
    "    #df_super_linkage_matrix[5] = numpy.NaN\n",
    "\n",
    "    \n",
    "    #make them dataframes since they are better to work with\n",
    "    df_sub_linkage_matrix = pd.DataFrame(sub_linkage_matrix) \n",
    "    \n",
    "    #get where the sub cluster in in the super cluster matrix\n",
    "    where_col = 5\n",
    "    not_where = 5\n",
    "    \n",
    "    #and df_super_linkage_matrix[5] == -1\n",
    "\n",
    "    where, where_col, not_where = prepare_where(df_super_linkage_matrix, current_sub)\n",
    "    \n",
    "    print(\"WHERE\")\n",
    "    print(where)\n",
    "        \n",
    "    \n",
    "        \n",
    "    #n_samples \n",
    "    n_super_samples = len(df_super_linkage_matrix) + 1\n",
    "    n_sub_samples = len(df_sub_linkage_matrix) + 1\n",
    "    \n",
    "    len_super = len(df_super_linkage_matrix)\n",
    "    len_sub = len(df_sub_linkage_matrix)\n",
    "    \n",
    "    \n",
    "    new_location = where.index[0]\n",
    "    new_cluster = len_super\n",
    "    \n",
    "    #changing values in sub cluster matrix so it can be merged into super cluster \n",
    "    \n",
    "\n",
    "    \n",
    "    df_sub_linkage_matrix[4] = numpy.NaN\n",
    "    df_sub_linkage_matrix[5] = numpy.NaN\n",
    "    \n",
    "\n",
    "    df_sub_linkage_matrix = prepare_sub_matrix(len_sub, df_sub_linkage_matrix, new_location, new_cluster, current_sub, len_super)\n",
    "    \n",
    "    #modify where line and add it to end of sub cluster matrix \n",
    "    where.at[new_location, where_col] =  new_location + len_super +  (2 * len_sub) \n",
    "    \n",
    "    print(\"n_super_samples\")\n",
    "    print(n_super_samples)\n",
    "            \n",
    "    if where.loc[new_location, not_where] >= n_super_samples:\n",
    "            if where.loc[new_location, not_where] - n_super_samples < new_location:\n",
    "                where.at[new_location, not_where] = where.loc[new_location, not_where] +len_sub\n",
    "            else:\n",
    "                where.at[new_location, not_where] = where.loc[new_location, not_where] + (2 * len_sub) \n",
    "\n",
    "    where.at[new_location, 3] =  where.loc[new_location, 3] + n_sub_samples\n",
    "    \n",
    "     \n",
    "    print(\"WHERE\")\n",
    "    print(where)\n",
    "\n",
    "    #a really dumb way to rename the index\n",
    "    #.setindex needs a col to set as the index \n",
    "    total_sub = pd.DataFrame(where.to_numpy(), index = [where.index[0] + n_sub_samples-1])\n",
    "    \n",
    "    total_sub = df_sub_linkage_matrix.append(total_sub)\n",
    "    \n",
    "    \n",
    "    df_super_linkage_matrix = prepare_super(len_super, df_super_linkage_matrix, len_sub, new_location)\n",
    "    \n",
    "    \n",
    "    print(\"REMOVING\")\n",
    "    print(new_location)\n",
    "    \n",
    "    print(\"TOTAL SUB\")\n",
    "    print(total_sub)\n",
    "    \n",
    "    print(\"NEW LOCATION\")\n",
    "    print(new_location)\n",
    "    print(\"N_SUB_SAMPLES\")\n",
    "    print(n_sub_samples)\n",
    "    print(\"len_sub\")\n",
    "    print(len_sub)\n",
    "    print(\"len_super\")\n",
    "    print(len_super)\n",
    "    \n",
    "    \n",
    "\n",
    "    print(\"CHANGE TO INDEX\")\n",
    "    print(list(range(0, new_location)) + list(range(new_location + len_sub + 1 , len_super + len_sub - 1)))\n",
    "    df_super_linkage_matrix.index = list(range(0, new_location)) + list(range(new_location + len_sub + 1 , len_super + len_sub))\n",
    "    \n",
    "    \n",
    "    \n",
    "    #merge then sort by index \n",
    "    new_linkage_matrix = df_super_linkage_matrix.append(total_sub)\n",
    "    new_linkage_matrix.sort_index(inplace = True)\n",
    "    \n",
    "    print(new_linkage_matrix)\n",
    "    \n",
    "    total_linkage_matrix = new_linkage_matrix\n",
    "    \n",
    "    \n",
    "    \n",
    "    \n",
    "\n",
    "print(new_linkage_matrix)\n",
    "scipy.cluster.hierarchy.is_valid_linkage(new_linkage_matrix)"
   ]
  },
  {
   "cell_type": "code",
   "execution_count": null,
   "id": "9c43f668",
   "metadata": {},
   "outputs": [],
   "source": [
    "for row in new_linkage_matrix.iterrows():\n",
    "    print(row)"
   ]
  },
  {
   "cell_type": "code",
   "execution_count": null,
   "id": "e9ba9cc3",
   "metadata": {
    "scrolled": true
   },
   "outputs": [],
   "source": [
    "#a strange way to get all the values that are not null\n",
    "no_nan_4 = new_linkage_matrix.loc[new_linkage_matrix[4] > -1]\n",
    "new_0 = pd.DataFrame(no_nan_4[4])\n",
    "new_0.columns = [0]\n",
    "print(new_0)\n",
    "\n",
    "#a strange way to get all the values that are not null\n",
    "no_nan_5 = new_linkage_matrix.loc[new_linkage_matrix[5] > -1]\n",
    "new_1 = pd.DataFrame(no_nan_5[5])\n",
    "new_1.columns = [1]\n",
    "print(new_1)\n",
    "\n",
    "\n",
    "print(new_0.sort_values(0))\n",
    "print(new_1.sort_values(1))"
   ]
  },
  {
   "cell_type": "code",
   "execution_count": null,
   "id": "6e9f2d31",
   "metadata": {},
   "outputs": [],
   "source": [
    "new_linkage_matrix.update(new_0)\n",
    "new_linkage_matrix.update(new_1)\n",
    "print(new_linkage_matrix)"
   ]
  },
  {
   "cell_type": "code",
   "execution_count": null,
   "id": "25478d2d",
   "metadata": {},
   "outputs": [],
   "source": [
    "new_linkage_matrix = new_linkage_matrix.drop(4, axis = 1)\n",
    "new_linkage_matrix = new_linkage_matrix.drop(5, axis = 1)\n",
    "print(new_linkage_matrix)"
   ]
  },
  {
   "cell_type": "code",
   "execution_count": null,
   "id": "c7b35c93",
   "metadata": {
    "scrolled": true
   },
   "outputs": [],
   "source": [
    "#one of two checks that my code often fails, see which row causes the failure \n",
    "\n",
    "#_check_hierarchy_uses_cluster_before_formed\n",
    "\n",
    "Z = numpy.asarray(new_linkage_matrix, order='c')\n",
    "\n",
    "n = Z.shape[0] + 1\n",
    "for i in range(0, n - 1):\n",
    "    if Z[i, 0] >= n + i or Z[i, 1] >= n + i:\n",
    "        print(i)\n",
    "        print(Z[i, 0])\n",
    "    else:\n",
    "        print(False)"
   ]
  },
  {
   "cell_type": "code",
   "execution_count": null,
   "id": "8c54b143",
   "metadata": {},
   "outputs": [],
   "source": [
    "#one of two checks that my code often fails, see which row causes the failure \n",
    "\n",
    "#check_hierarchy_uses_cluster_more_than_once\n",
    "\n",
    "n = Z.shape[0] + 1\n",
    "chosen = set([])\n",
    "for i in range(0, n - 1):\n",
    "    if (Z[i, 0] in chosen) or (Z[i, 1] in chosen) or Z[i, 0] == Z[i, 1]:\n",
    "        print(i)\n",
    "        print(Z[i, 0])\n",
    "        print(True)\n",
    "    chosen.add(Z[i, 0])\n",
    "    chosen.add(Z[i, 1])\n",
    "    print(False)\n",
    "\n",
    "print(chosen)\n",
    "\n",
    "for i in range(0, 2607):\n",
    "    if i not in chosen:\n",
    "        print(i)"
   ]
  },
  {
   "cell_type": "code",
   "execution_count": null,
   "id": "ddb5ca8e",
   "metadata": {},
   "outputs": [],
   "source": [
    "for row in new_linkage_matrix.iterrows():\n",
    "    print(row)"
   ]
  },
  {
   "cell_type": "code",
   "execution_count": null,
   "id": "519bbd2a",
   "metadata": {},
   "outputs": [],
   "source": [
    "#new_linkage_matrix.at[354, 1] = 1388.0"
   ]
  },
  {
   "cell_type": "code",
   "execution_count": null,
   "id": "1fd03683",
   "metadata": {},
   "outputs": [],
   "source": [
    "childs = []\n",
    "\n",
    "for i in range(0, len(new_linkage_matrix)):\n",
    "    childs.append((int(new_linkage_matrix.loc[i, 0]), int(new_linkage_matrix.loc[i, 1])))\n",
    "\n"
   ]
  },
  {
   "cell_type": "code",
   "execution_count": null,
   "id": "128e8e4b",
   "metadata": {},
   "outputs": [],
   "source": [
    "len(childs)"
   ]
  },
  {
   "cell_type": "code",
   "execution_count": null,
   "id": "e619acdc",
   "metadata": {},
   "outputs": [],
   "source": [
    " # create the counts of samples under each node\n",
    "counts = numpy.zeros(len(childs))\n",
    "print(counts)\n",
    "n_samples = len(new_linkage_matrix) + 1\n",
    "for i, merge in enumerate(childs):\n",
    "    current_count = 0\n",
    "    for child_idx in merge:\n",
    "        if child_idx < n_samples:\n",
    "            current_count += 1  # leaf node\n",
    "        else:\n",
    "            current_count += counts[child_idx - n_samples]\n",
    "    counts[i] = current_count\n",
    "        \n",
    "print(counts)"
   ]
  },
  {
   "cell_type": "code",
   "execution_count": null,
   "id": "2864988d",
   "metadata": {},
   "outputs": [],
   "source": [
    "counts_df = pd.DataFrame(counts)\n",
    "counts_df.columns = [3]\n",
    "print(counts_df)"
   ]
  },
  {
   "cell_type": "code",
   "execution_count": null,
   "id": "f7e7b32b",
   "metadata": {},
   "outputs": [],
   "source": [
    "new_linkage_matrix.update(counts_df)"
   ]
  },
  {
   "cell_type": "code",
   "execution_count": null,
   "id": "1fe131bf",
   "metadata": {},
   "outputs": [],
   "source": [
    "print(new_linkage_matrix)"
   ]
  },
  {
   "cell_type": "code",
   "execution_count": null,
   "id": "fb74ff12",
   "metadata": {},
   "outputs": [],
   "source": [
    "scipy.cluster.hierarchy.is_valid_linkage(new_linkage_matrix)"
   ]
  },
  {
   "cell_type": "code",
   "execution_count": null,
   "id": "36e8307d",
   "metadata": {},
   "outputs": [],
   "source": [
    "r_dict2 = dendrogram(new_linkage_matrix, truncate_mode='level', p=51, distance_sort = \"ascending\", ax= axs[2])\n",
    "plt.show()"
   ]
  },
  {
   "cell_type": "code",
   "execution_count": null,
   "id": "d2f8da11",
   "metadata": {},
   "outputs": [],
   "source": [
    "df_r_dict2_labels = r_dict2[\"leaves\"]"
   ]
  },
  {
   "cell_type": "code",
   "execution_count": null,
   "id": "f39a8f11",
   "metadata": {
    "scrolled": true
   },
   "outputs": [],
   "source": [
    "print(r_dict2[\"leaves\"])"
   ]
  },
  {
   "cell_type": "code",
   "execution_count": null,
   "id": "6ad0d480",
   "metadata": {},
   "outputs": [],
   "source": [
    "print(df_r_dict2_labels.index(0))"
   ]
  },
  {
   "cell_type": "code",
   "execution_count": null,
   "id": "f5e89e64",
   "metadata": {
    "scrolled": true
   },
   "outputs": [],
   "source": [
    "print(r_dict2[\"ivl\"][0])\n",
    "\n",
    "super_and_sub_dendro_labels_index = []\n",
    "\n",
    "for i in range(0, len(r_dict2[\"ivl\"])):\n",
    "    super_and_sub_dendro_labels_index.append(df_r_dict2_labels.index(i))\n",
    "    \n",
    "\n",
    "print(super_and_sub_dendro_labels_index)"
   ]
  },
  {
   "cell_type": "code",
   "execution_count": null,
   "id": "15472d3c",
   "metadata": {},
   "outputs": [],
   "source": [
    "result_df = pd.DataFrame(result)\n",
    "\n",
    "df_super_and_sub_dendro_labels_index = pd.DataFrame(super_and_sub_dendro_labels_index)\n",
    "df_super_and_sub_dendro_labels_index.rename(columns = {0:1305}, inplace = True)\n",
    "\n",
    "sas_transposed_labels_df = df_super_and_sub_dendro_labels_index.transpose()\n",
    "\n",
    "sas_transposed_labels_df.insert(1305, 1305, 20000)\n",
    "\n",
    "print(result_df)\n",
    "print(df_super_and_sub_dendro_labels_index)\n",
    "print(sas_transposed_labels_df)\n",
    "\n",
    "sas_column_label_df = result_df.join(df_super_and_sub_dendro_labels_index)\n",
    "\n",
    "sas_label_df = sas_column_label_df.append(sas_transposed_labels_df, ignore_index=True)\n",
    "\n",
    "print(sas_label_df)\n",
    "\n",
    "sas_col_sorted = sas_label_df.sort_values(1305)\n",
    "\n",
    "sas_sorted_df = sas_col_sorted.sort_values(1305, axis = 1)\n",
    "\n",
    "print(sas_col_sorted)\n",
    "print(sas_sorted_df)\n",
    "\n",
    "with_labels_sas_sorted_df = sas_sorted_df\n",
    "\n",
    "sas_sorted_df = sas_sorted_df.drop(1305, axis = 0)\n",
    "sas_sorted_df = sas_sorted_df.drop(1305, axis = 1)\n",
    "\n",
    "final_output_test = sas_sorted_df.to_numpy()\n",
    "\n",
    "print(sas_sorted_df)"
   ]
  },
  {
   "cell_type": "code",
   "execution_count": null,
   "id": "6f3559aa",
   "metadata": {},
   "outputs": [],
   "source": [
    "fig_super = pltexpr.imshow(sas_sorted_df.to_numpy(), title=\"graph of sub clusters\")\n",
    "fig_super.show()"
   ]
  },
  {
   "cell_type": "code",
   "execution_count": null,
   "id": "31d64e04",
   "metadata": {
    "scrolled": true
   },
   "outputs": [],
   "source": [
    "print(with_labels_sas_sorted_df)"
   ]
  },
  {
   "cell_type": "code",
   "execution_count": null,
   "id": "95868629",
   "metadata": {
    "scrolled": true
   },
   "outputs": [],
   "source": [
    "super_cluster_for_sub_labels = []\n",
    "\n",
    "for index in with_labels_sas_sorted_df.index:\n",
    "    super_cluster_for_sub_labels.append(with_labels_super_sorted_df[index][len(with_labels_super_sorted_df )-1])\n",
    "    \n",
    "df_super_cluster_for_sub_labels = pd.DataFrame(super_cluster_for_sub_labels)\n",
    "\n",
    "print(df_super_cluster_for_sub_labels)\n",
    "\n",
    "      "
   ]
  },
  {
   "cell_type": "code",
   "execution_count": null,
   "id": "45cf95e7",
   "metadata": {},
   "outputs": [],
   "source": [
    "df_super_cluster_for_sub_labels.rename(columns = {0:1305}, inplace = True)\n",
    "\n",
    "final_transposed_labels_df = df_super_cluster_for_sub_labels.transpose()\n",
    "\n",
    "\n",
    "print(sas_sorted_df)\n",
    "print(df_super_cluster_for_sub_labels)\n",
    "print(final_transposed_labels_df)\n",
    "\n",
    "super_cluster_for_sub_labels.pop(1305)\n",
    "\n",
    "sas_sorted_df_2 = sas_sorted_df\n",
    "\n",
    "sas_sorted_df_2[1305] = super_cluster_for_sub_labels\n",
    "\n",
    "print(\"sas_sorted_df_2\")\n",
    "print(sas_sorted_df_2)\n",
    "\n",
    "print(\"final_transposed_labels_df\")\n",
    "print(final_transposed_labels_df)\n",
    "\n",
    "index2 = list(sas_sorted_df_2.index)\n",
    "index2.append(1305)\n",
    "\n",
    "final_transposed_labels_df.columns = index2\n",
    "\n",
    "final_label_df = sas_sorted_df_2.append(final_transposed_labels_df, ignore_index=True)\n",
    "\n",
    "print(\"final_label_df\")\n",
    "print(final_label_df)\n",
    "\n",
    "\n",
    "final_col_sorted = final_label_df.sort_values(1305)\n",
    "\n",
    "final_sorted_df = final_col_sorted.sort_values(1305, axis = 1)\n",
    "\n",
    "print(final_col_sorted)\n",
    "print(final_sorted_df)\n",
    "\n",
    "with_labels_final_sorted_df = final_sorted_df\n",
    "\n",
    "final_sorted_df = final_sorted_df.drop(1305, axis = 0)\n",
    "final_sorted_df = final_sorted_df.drop(1305, axis = 1)\n",
    "\n",
    "print(final_sorted_df)"
   ]
  },
  {
   "cell_type": "code",
   "execution_count": null,
   "id": "74dd79fd",
   "metadata": {
    "scrolled": true
   },
   "outputs": [],
   "source": [
    "print(with_labels_final_sorted_df)"
   ]
  },
  {
   "cell_type": "code",
   "execution_count": null,
   "id": "35055a6e",
   "metadata": {
    "scrolled": true
   },
   "outputs": [],
   "source": [
    "print(super_sorted_df)"
   ]
  },
  {
   "cell_type": "code",
   "execution_count": null,
   "id": "99813890",
   "metadata": {},
   "outputs": [],
   "source": [
    "fig_super = pltexpr.imshow(super_sorted_df.to_numpy(), title=\"graph of grouped data done by using df then reps Hierarchical Clustered\")\n",
    "fig_super.show()"
   ]
  },
  {
   "cell_type": "code",
   "execution_count": null,
   "id": "f973ebc0",
   "metadata": {},
   "outputs": [],
   "source": [
    "fig_super_and_sub = pltexpr.imshow(final_sorted_df.to_numpy(), title=\"graph of sub and super clustered\")\n",
    "fig_super_and_sub.show()"
   ]
  },
  {
   "cell_type": "code",
   "execution_count": null,
   "id": "6e5c7862",
   "metadata": {},
   "outputs": [],
   "source": [
    "final_sorted_df.to_csv(\"final_sorted_df\", sep = \"\\t\")"
   ]
  },
  {
   "cell_type": "code",
   "execution_count": null,
   "id": "42a0474d",
   "metadata": {},
   "outputs": [],
   "source": [
    "from scipy.cluster import hierarchy\n",
    "def getNewick(node, newick, parentdist, leaf_names):\n",
    "    if node.is_leaf():\n",
    "        return \"%s:%.2f%s\" % (leaf_names[node.id], parentdist - node.dist, newick)\n",
    "    else:\n",
    "        if len(newick) > 0:\n",
    "            newick = \"):%.2f%s\" % (parentdist - node.dist, newick)\n",
    "        else:\n",
    "            newick = \");\"\n",
    "        newick = getNewick(node.get_left(), newick, node.dist, leaf_names)\n",
    "        newick = getNewick(node.get_right(), \",%s\" % (newick), node.dist, leaf_names)\n",
    "        newick = \"(%s\" % (newick)\n",
    "        return newick\n",
    "#from https://stackoverflow.com/questions/28222179/save-dendrogram-to-newick-format/31878514#31878514 \n",
    "\n",
    "tree = hierarchy.to_tree(new_linkage_matrix,False)\n",
    "newick = getNewick(tree, \"\", tree.dist, r_dict2[\"leaves\"])"
   ]
  },
  {
   "cell_type": "code",
   "execution_count": null,
   "id": "fd36aedd",
   "metadata": {
    "scrolled": true
   },
   "outputs": [],
   "source": [
    "flipped_col_final = list(final_sorted_df.columns)\n",
    "flipped_col_final.reverse()\n",
    "\n",
    "print(flipped_col_final)"
   ]
  },
  {
   "cell_type": "code",
   "execution_count": null,
   "id": "3668aa5d",
   "metadata": {
    "scrolled": true
   },
   "outputs": [],
   "source": [
    "final_sorted_df_numpy = final_output_test\n",
    "flipped = numpy.flip(final_sorted_df_numpy)\n",
    "\n",
    "#final_sorted_df_numpy = final_sorted_df.to_numpy()\n",
    "#flipped = numpy.flip(final_sorted_df_numpy)\n",
    "\n",
    "template_file = open(\"template.json\", \"r\")\n",
    "json_object = json.load(template_file)\n",
    "template_file.close()\n",
    "\n",
    "json_object[\"columnDendrogram\"] = newick\n",
    "json_object[\"rowDendrogram\"] = newick\n",
    "\n",
    "dataset = json_object[\"dataset\"]\n",
    "print(dataset)\n",
    "\n",
    "dataset[\"rows\"] = len(flipped[0])\n",
    "dataset[\"columns\"] = len(flipped)\n",
    "\n",
    "#print(\"flipped.tolist()\")\n",
    "#print(flipped.tolist()[0])\n",
    "\n",
    "dataset[\"seriesArrays\"] = [flipped.tolist()]\n",
    "\n",
    "r_dict2[\"leaves\"].reverse()\n",
    "\n",
    "print(\"LABELS\")\n",
    "print(r_dict2[\"leaves\"])\n",
    "\n",
    "dataset[\"rowMetadataModel\"][\"vectors\"][0][\"array\"] = r_dict2[\"leaves\"]\n",
    "dataset[\"columnMetadataModel\"][\"vectors\"][0][\"array\"] = r_dict2[\"leaves\"]    \n",
    "\n",
    "dataset[\"rowMetadataModel\"][\"vectors\"][1][\"array\"] = r_dict2[\"leaves\"]\n",
    "dataset[\"columnMetadataModel\"][\"vectors\"][1][\"array\"] = r_dict2[\"leaves\"]    \n",
    "\n",
    "\n",
    "\n",
    "output_file = open(\"super_and_sub_file.json\", \"w\")\n",
    "json.dump(json_object, output_file)\n",
    "output_file.close()"
   ]
  },
  {
   "cell_type": "code",
   "execution_count": null,
   "id": "11f71bb3",
   "metadata": {
    "scrolled": true
   },
   "outputs": [],
   "source": [
    "flipped_df = pd.DataFrame(flipped)\n",
    "flipped_df.columns = r_dict2[\"leaves\"]\n",
    "flipped_df.index = r_dict2[\"leaves\"]\n",
    "\n",
    "\n",
    "print(flipped_df)"
   ]
  },
  {
   "cell_type": "code",
   "execution_count": null,
   "id": "305369c5",
   "metadata": {},
   "outputs": [],
   "source": [
    "import random"
   ]
  },
  {
   "cell_type": "code",
   "execution_count": null,
   "id": "a4573943",
   "metadata": {
    "scrolled": true
   },
   "outputs": [],
   "source": [
    "for i in range(0, len(flipped_df)):\n",
    "    r_0_1305 = random.randint(0, len(flipped_df)-1)\n",
    "    print(result_df.loc[i, r_0_1305] == flipped_df.loc[i, r_0_1305])"
   ]
  },
  {
   "cell_type": "code",
   "execution_count": null,
   "id": "e05ef272",
   "metadata": {},
   "outputs": [],
   "source": [
    "\n",
    "print(sas_sorted_df)\n",
    "\n",
    "\n",
    "for i in range(0, len(flipped_df)):\n",
    "    r_0_1305 = random.randint(0, len(flipped_df)-1)\n",
    "    print(result_df.loc[i, r_0_1305] == sas_sorted_df.loc[i, r_0_1305])\n",
    "\n"
   ]
  },
  {
   "cell_type": "code",
   "execution_count": null,
   "id": "bfa58072",
   "metadata": {
    "scrolled": true
   },
   "outputs": [],
   "source": [
    "print(result_df)"
   ]
  },
  {
   "cell_type": "code",
   "execution_count": null,
   "id": "0448001e",
   "metadata": {},
   "outputs": [],
   "source": []
  }
 ],
 "metadata": {
  "kernelspec": {
   "display_name": "Python 3",
   "language": "python",
   "name": "python3"
  },
  "language_info": {
   "codemirror_mode": {
    "name": "ipython",
    "version": 3
   },
   "file_extension": ".py",
   "mimetype": "text/x-python",
   "name": "python",
   "nbconvert_exporter": "python",
   "pygments_lexer": "ipython3",
   "version": "3.9.5"
  }
 },
 "nbformat": 4,
 "nbformat_minor": 5
}
