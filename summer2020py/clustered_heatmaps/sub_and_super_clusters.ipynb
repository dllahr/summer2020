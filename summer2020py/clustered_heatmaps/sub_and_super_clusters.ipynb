{
 "cells": [
  {
   "cell_type": "code",
   "execution_count": null,
   "id": "81e96ebf",
   "metadata": {},
   "outputs": [],
   "source": [
    "%matplotlib notebook\n",
    "\n",
    "import cmapPy.pandasGEXpress.parse\n",
    "\n",
    "import cmapPy.math.fast_corr\n",
    "\n",
    "import plotly.express as pltexpr\n",
    "\n",
    "import sklearn.cluster\n",
    "\n",
    "import pandas as pd\n",
    "\n",
    "import numpy\n",
    "\n",
    "from matplotlib import pyplot as plt\n",
    "\n",
    "from scipy.cluster.hierarchy import dendrogram\n",
    "\n",
    "import scipy.cluster.hierarchy\n",
    "\n",
    "import json"
   ]
  },
  {
   "cell_type": "code",
   "execution_count": null,
   "id": "704e23ed",
   "metadata": {},
   "outputs": [],
   "source": [
    "gctoo = cmapPy.pandasGEXpress.parse.parse(\"2020_Q3_Achilles_CCLE_expression_r19144x1305.gctx\")\n",
    "print(gctoo)"
   ]
  },
  {
   "cell_type": "code",
   "execution_count": null,
   "id": "7329adb6",
   "metadata": {},
   "outputs": [],
   "source": [
    "numpy_df = gctoo.data_df.to_numpy()\n",
    "\n",
    "result = cmapPy.math.fast_corr.fast_corr(numpy_df)"
   ]
  },
  {
   "cell_type": "code",
   "execution_count": null,
   "id": "70c9f247",
   "metadata": {},
   "outputs": [],
   "source": [
    "def plot_dendrogram(model, **kwargs):\n",
    "    # Create linkage matrix and then plot the dendrogram\n",
    "\n",
    "    # create the counts of samples under each node\n",
    "    counts = numpy.zeros(model.children_.shape[0])\n",
    "    n_samples = len(model.labels_)\n",
    "    for i, merge in enumerate(model.children_):\n",
    "        current_count = 0\n",
    "        for child_idx in merge:\n",
    "            if child_idx < n_samples:\n",
    "                current_count += 1  # leaf node\n",
    "            else:\n",
    "                current_count += counts[child_idx - n_samples]\n",
    "        counts[i] = current_count\n",
    "\n",
    "    linkage_matrix = numpy.column_stack([model.children_, model.distances_,\n",
    "                                      counts]).astype(float)\n",
    "    \n",
    "    print(linkage_matrix)\n",
    "\n",
    "    # Plot the corresponding dendrogram\n",
    "    r_dict = dendrogram(linkage_matrix, **kwargs)\n",
    "\n",
    "    \n",
    "    \n",
    "    return linkage_matrix, list(map(int, r_dict[\"ivl\"])), r_dict[\"leaves\"]\n",
    "\n",
    "# from https://scikit-learn.org/stable/auto_examples/cluster/plot_agglomerative_dendrogram.html#sphx-glr-auto-examples-cluster-plot-agglomerative-dendrogram-py"
   ]
  },
  {
   "cell_type": "code",
   "execution_count": null,
   "id": "9fcefc73",
   "metadata": {},
   "outputs": [],
   "source": [
    "fig, axs = plt.subplots(3,1)"
   ]
  },
  {
   "cell_type": "code",
   "execution_count": null,
   "id": "77d11528",
   "metadata": {},
   "outputs": [],
   "source": [
    "AffinityProp = sklearn.cluster.AffinityPropagation(affinity = \"precomputed\").fit(result)\n",
    "\n",
    "print(\"ran\")\n",
    "print(AffinityProp)"
   ]
  },
  {
   "cell_type": "code",
   "execution_count": null,
   "id": "0063b64d",
   "metadata": {},
   "outputs": [],
   "source": [
    "result_df = pd.DataFrame(result)\n",
    "\n",
    "labels_df = pd.DataFrame(AffinityProp.labels_)\n",
    "labels_df.rename(columns = {0:1305}, inplace = True)\n",
    "\n",
    "transposed_labels_df = labels_df.transpose()\n",
    "\n",
    "transposed_labels_df.insert(1305, 1305, 20000)\n",
    "\n",
    "print(result_df)\n",
    "print(labels_df)\n",
    "print(transposed_labels_df)\n",
    "\n",
    "column_label_df = result_df.join(labels_df)\n",
    "\n",
    "label_df = column_label_df.append(transposed_labels_df, ignore_index=True)\n",
    "\n",
    "print(label_df)\n",
    "\n",
    "col_sorted = label_df.sort_values(1305)\n",
    "\n",
    "sorted_df = col_sorted.sort_values(1305, axis = 1)\n",
    "\n",
    "print(col_sorted)\n",
    "print(sorted_df)\n",
    "\n",
    "sorted_df = sorted_df.drop(1305, axis = 0)\n",
    "sorted_df = sorted_df.drop(1305, axis = 1)\n",
    "\n",
    "print(sorted_df)\n",
    "\n"
   ]
  },
  {
   "cell_type": "code",
   "execution_count": null,
   "id": "d8bdd4e3",
   "metadata": {},
   "outputs": [],
   "source": [
    "cluster_centers = []\n",
    "\n",
    "print(AffinityProp.cluster_centers_indices_)\n",
    "for i in range (0, len(AffinityProp.cluster_centers_indices_)):\n",
    "    cluster_centers.append(result[AffinityProp.cluster_centers_indices_[i]])\n",
    "    "
   ]
  },
  {
   "cell_type": "code",
   "execution_count": null,
   "id": "b9bcb540",
   "metadata": {},
   "outputs": [],
   "source": [
    "ward_super_clusters = sklearn.cluster.AgglomerativeClustering(affinity = \"euclidean\", n_clusters = 71, linkage = \"average\", compute_full_tree = True, compute_distances = True).fit(cluster_centers)"
   ]
  },
  {
   "cell_type": "code",
   "execution_count": null,
   "id": "87d1316f",
   "metadata": {
    "scrolled": true
   },
   "outputs": [],
   "source": [
    "super_linkage_matrix, super_dendro_labels, super_leaves = plot_dendrogram(ward_super_clusters, truncate_mode='level', p=51, distance_sort = \"ascending\", ax=axs[0])\n",
    "plt.show()"
   ]
  },
  {
   "cell_type": "code",
   "execution_count": null,
   "id": "5a242661",
   "metadata": {},
   "outputs": [],
   "source": [
    "print(super_dendro_labels)\n",
    "\n",
    "super_dendro_labels_index = []\n",
    "\n",
    "for i in range(0, len(super_dendro_labels)):\n",
    "    super_dendro_labels_index.append(super_dendro_labels.index(i))\n",
    "    \n",
    "\n",
    "print(super_dendro_labels_index)\n",
    "print(AffinityProp.cluster_centers_indices_)"
   ]
  },
  {
   "cell_type": "code",
   "execution_count": null,
   "id": "7a75871a",
   "metadata": {},
   "outputs": [],
   "source": [
    "print(label_df)\n",
    "\n",
    "#list comperhension \n",
    "#then add col\n",
    "\n",
    "\n",
    "for i in range(0, 1305):\n",
    "    val = label_df.loc[i, (1305)]\n",
    "    label_df.loc[i, (1305)] = super_dendro_labels_index[val]\n",
    "    label_df.loc[1305, (i)] = super_dendro_labels_index[val]\n",
    "    \n",
    "    \n",
    "super_col_sorted = label_df.sort_values(1305)\n",
    "\n",
    "super_sorted_df = super_col_sorted.sort_values(1305, axis = 1)\n",
    "\n",
    "print(super_col_sorted)\n",
    "print(super_sorted_df)\n",
    "\n",
    "super_sorted_df = super_sorted_df.drop(1305, axis = 0)\n",
    "super_sorted_df = super_sorted_df.drop(1305, axis = 1)\n",
    "\n",
    "print(super_sorted_df)"
   ]
  },
  {
   "cell_type": "code",
   "execution_count": null,
   "id": "b567a16c",
   "metadata": {},
   "outputs": [],
   "source": [
    "current_sub = 59"
   ]
  },
  {
   "cell_type": "code",
   "execution_count": null,
   "id": "87c48d16",
   "metadata": {
    "scrolled": true
   },
   "outputs": [],
   "source": [
    "sorted_with_labels = super_col_sorted.sort_values(1305, axis = 1)\n",
    "\n",
    "sub_cluster = sorted_with_labels.loc[sorted_with_labels[1305] == current_sub]\n",
    "print(sub_cluster)\n",
    "ward_sub_cluster = sklearn.cluster.AgglomerativeClustering(affinity = \"euclidean\", n_clusters = len(sub_cluster)-1, linkage = \"average\", compute_full_tree = True, compute_distances = True).fit(sub_cluster)"
   ]
  },
  {
   "cell_type": "code",
   "execution_count": null,
   "id": "3bb573a8",
   "metadata": {
    "scrolled": true
   },
   "outputs": [],
   "source": [
    "sub_linkage_matrix, sub_dendro_labels, sub_leaves = plot_dendrogram(ward_sub_cluster, truncate_mode='level', p=51, distance_sort = \"ascending\", ax= axs[1])\n",
    "plt.show()"
   ]
  },
  {
   "cell_type": "code",
   "execution_count": null,
   "id": "49e79da1",
   "metadata": {},
   "outputs": [],
   "source": [
    "df_super_linkage_matrix = pd.DataFrame(super_linkage_matrix)\n",
    "print(df_super_linkage_matrix)\n",
    "\n",
    "\n",
    "for row in df_super_linkage_matrix.iterrows():\n",
    "    print(row)"
   ]
  },
  {
   "cell_type": "code",
   "execution_count": null,
   "id": "6ec95b0a",
   "metadata": {
    "scrolled": true
   },
   "outputs": [],
   "source": [
    "df_sub_linkage_matrix = pd.DataFrame(sub_linkage_matrix)\n",
    "print(df_sub_linkage_matrix)"
   ]
  },
  {
   "cell_type": "code",
   "execution_count": null,
   "id": "9f88cacf",
   "metadata": {},
   "outputs": [],
   "source": [
    "where_col = 5\n",
    "not_where = 5\n",
    "\n",
    "try:\n",
    "    where = df_super_linkage_matrix.loc[df_super_linkage_matrix[0] == current_sub]\n",
    "    where_col = 0\n",
    "    not_where = 1\n",
    "    print(where.index[0])\n",
    "except IndexError:\n",
    "    where = df_super_linkage_matrix.loc[df_super_linkage_matrix[1] == current_sub]\n",
    "    where_col = 1\n",
    "    not_where = 0\n",
    "\n",
    "print(where.index[0])\n",
    "print(where.index.to_numpy()[0])\n",
    "\n",
    "print(where)"
   ]
  },
  {
   "cell_type": "code",
   "execution_count": null,
   "id": "1cb63909",
   "metadata": {},
   "outputs": [],
   "source": [
    "n_super_samples = len(df_super_linkage_matrix) + 1"
   ]
  },
  {
   "cell_type": "code",
   "execution_count": null,
   "id": "cd1e3c98",
   "metadata": {
    "scrolled": true
   },
   "outputs": [],
   "source": [
    "print(df_sub_linkage_matrix) "
   ]
  },
  {
   "cell_type": "code",
   "execution_count": null,
   "id": "0a40fad7",
   "metadata": {
    "scrolled": true
   },
   "outputs": [],
   "source": [
    "n_sub_samples = len(df_sub_linkage_matrix) + 1\n",
    "new_location = where.index[0]\n",
    "new_cluster = n_super_samples - 1\n",
    "\n",
    "print(n_sub_samples)\n",
    "print(n_super_samples)\n",
    "print(new_cluster)\n",
    "\n",
    "for i in range(0, n_sub_samples-1):\n",
    "    zero_leaf = df_sub_linkage_matrix[0][i]\n",
    "    one_leaf = df_sub_linkage_matrix[1][i]\n",
    "    if zero_leaf >= n_sub_samples:\n",
    "        #something to change it so it can be added to linkage_matrix\n",
    "        df_sub_linkage_matrix[0][i] = zero_leaf + n_super_samples  -1  + new_location\n",
    "        \n",
    "    else:\n",
    "        #df_sub_linkage_matrix[0][i] = sub_cluster.index[int(zero_leaf)]\n",
    "        df_sub_linkage_matrix[0][i] = new_cluster\n",
    "        new_cluster += 1\n",
    "        \n",
    "    if one_leaf >= n_sub_samples:\n",
    "        #something to change it so it can be added to linkage_matrix\n",
    "        df_sub_linkage_matrix[1][i] = one_leaf  + n_super_samples - 1 + new_location\n",
    "        \n",
    "    else:\n",
    "        #df_sub_linkage_matrix[1][i] = sub_cluster.index[int(one_leaf)]\n",
    "        df_sub_linkage_matrix[1][i] = new_cluster\n",
    "        new_cluster += 1\n",
    "        \n",
    "\n",
    "        \n",
    "\n",
    "        \n",
    "#set the greatest value = to 1\n",
    "#that is the sample name that was replaced so this is done to aviod dupes\n",
    "\n",
    "for i in range(0, len(df_sub_linkage_matrix)):\n",
    "    if df_sub_linkage_matrix.loc[i, 0] == n_super_samples - 1:\n",
    "        df_sub_linkage_matrix.at[i, 0] = current_sub\n",
    "\n",
    "    if df_sub_linkage_matrix.loc[i, 1] == n_super_samples - 1:\n",
    "        df_sub_linkage_matrix.at[i, 1] = current_sub\n",
    "\n",
    "        \n",
    "        \n",
    "print(df_sub_linkage_matrix) \n"
   ]
  },
  {
   "cell_type": "code",
   "execution_count": null,
   "id": "b0f2e795",
   "metadata": {
    "scrolled": true
   },
   "outputs": [],
   "source": [
    "df_sub_linkage_matrix.index = df_sub_linkage_matrix.index + new_location\n",
    "print(df_sub_linkage_matrix) "
   ]
  },
  {
   "cell_type": "code",
   "execution_count": null,
   "id": "e003e6bf",
   "metadata": {},
   "outputs": [],
   "source": [
    "print(df_sub_linkage_matrix.index[0])\n",
    "print(where.loc[where.index[0], 0])\n",
    "\n",
    "\n",
    "where.at[new_location, where_col] =  new_location + n_super_samples +  (2 * n_sub_samples) - 3\n",
    "\n",
    "    \n",
    "            \n",
    "if where.loc[new_location, not_where] > n_super_samples:\n",
    "        if where.loc[new_location, not_where] - n_super_samples < new_location:\n",
    "            where.at[new_location, not_where] = where.loc[new_location, not_where] + n_sub_samples - 1\n",
    "        else:\n",
    "            where.at[new_location, not_where] = where.loc[new_location, not_where] + (2 * n_sub_samples) - 2\n",
    "\n",
    "where.at[new_location, 3] =  where.loc[new_location, 3] + n_sub_samples\n",
    "\n",
    "#a really dumb way to rename the index\n",
    "#.setindex needs a col to set as the index \n",
    "total_sub = pd.DataFrame(where.to_numpy(), index = [where.index[0] + n_sub_samples-1])\n",
    "\n",
    "print(where)\n",
    "print(total_sub)"
   ]
  },
  {
   "cell_type": "code",
   "execution_count": null,
   "id": "521a1315",
   "metadata": {},
   "outputs": [],
   "source": [
    "total_sub = df_sub_linkage_matrix.append(total_sub)"
   ]
  },
  {
   "cell_type": "code",
   "execution_count": null,
   "id": "35768d9e",
   "metadata": {},
   "outputs": [],
   "source": [
    "for row in df_super_linkage_matrix.iterrows():\n",
    "    print(row)"
   ]
  },
  {
   "cell_type": "code",
   "execution_count": null,
   "id": "43007900",
   "metadata": {},
   "outputs": [],
   "source": [
    "adding = 0\n",
    "\n",
    "for i in range(0, n_super_samples-1):\n",
    "    zero_leaf = df_super_linkage_matrix[0][i]\n",
    "    one_leaf = df_super_linkage_matrix[1][i]\n",
    "\n",
    "    if zero_leaf >+ n_super_samples:\n",
    "        if zero_leaf - n_super_samples < new_location:\n",
    "            df_super_linkage_matrix[0][i] = df_super_linkage_matrix[0][i] + n_sub_samples - 1\n",
    "        else:\n",
    "            df_super_linkage_matrix[0][i] = df_super_linkage_matrix[0][i] + (2 * n_sub_samples) - 2\n",
    " \n",
    "    if one_leaf >= n_super_samples:\n",
    "        if one_leaf - n_super_samples < new_location:\n",
    "            df_super_linkage_matrix[1][i] = df_super_linkage_matrix[1][i] + n_sub_samples - 1\n",
    "        else:\n",
    "            df_super_linkage_matrix[1][i] = df_super_linkage_matrix[1][i] + (2 * n_sub_samples) - 2\n",
    "        "
   ]
  },
  {
   "cell_type": "code",
   "execution_count": null,
   "id": "a3f8aab6",
   "metadata": {},
   "outputs": [],
   "source": [
    "print(df_super_linkage_matrix)\n",
    "\n",
    "for row in df_super_linkage_matrix.iterrows():\n",
    "    print(row)"
   ]
  },
  {
   "cell_type": "code",
   "execution_count": null,
   "id": "d9ebdd5f",
   "metadata": {},
   "outputs": [],
   "source": [
    "df_super_linkage_matrix.drop(new_location, inplace = True)\n",
    "\n",
    "\n",
    "df_super_linkage_matrix.index = list(range(0, new_location)) + list(range(new_location + 1 +n_sub_samples , len(df_super_linkage_matrix)+1 + n_sub_samples))\n",
    "    \n",
    "    \n",
    "for row in df_super_linkage_matrix.iterrows():\n",
    "    print(row)"
   ]
  },
  {
   "cell_type": "code",
   "execution_count": null,
   "id": "55081673",
   "metadata": {
    "scrolled": true
   },
   "outputs": [],
   "source": [
    "for row in total_sub.iterrows():\n",
    "    print(row)"
   ]
  },
  {
   "cell_type": "code",
   "execution_count": null,
   "id": "7e6f2419",
   "metadata": {},
   "outputs": [],
   "source": [
    "    \n",
    "new_linkage_matrix = df_super_linkage_matrix.append(total_sub)\n",
    "new_linkage_matrix.sort_index(inplace = True)"
   ]
  },
  {
   "cell_type": "code",
   "execution_count": null,
   "id": "00805ed3",
   "metadata": {},
   "outputs": [],
   "source": [
    "print(new_linkage_matrix)\n",
    "print(new_linkage_matrix[0][17])"
   ]
  },
  {
   "cell_type": "code",
   "execution_count": null,
   "id": "acf1cfdd",
   "metadata": {},
   "outputs": [],
   "source": [
    "for row in new_linkage_matrix.iterrows():\n",
    "    print(row)"
   ]
  },
  {
   "cell_type": "code",
   "execution_count": null,
   "id": "bd24fa48",
   "metadata": {
    "scrolled": true
   },
   "outputs": [],
   "source": [
    "#one of two checks that my code often fails, see which row causes the failure \n",
    "\n",
    "#_check_hierarchy_uses_cluster_before_formed\n",
    "\n",
    "Z = numpy.asarray(new_linkage_matrix, order='c')\n",
    "\n",
    "n = Z.shape[0] + 1\n",
    "for i in range(0, n - 1):\n",
    "    if Z[i, 0] >= n + i or Z[i, 1] >= n + i:\n",
    "        print(i)\n",
    "        print(Z[i, 0])\n",
    "    else:\n",
    "        print(False)"
   ]
  },
  {
   "cell_type": "code",
   "execution_count": null,
   "id": "21135429",
   "metadata": {
    "scrolled": true
   },
   "outputs": [],
   "source": [
    "#one of two checks that my code often fails, see which row causes the failure \n",
    "\n",
    "#check_hierarchy_uses_cluster_more_than_once\n",
    "\n",
    "n = Z.shape[0] + 1\n",
    "chosen = set([])\n",
    "for i in range(0, n - 1):\n",
    "    if (Z[i, 0] in chosen) or (Z[i, 1] in chosen) or Z[i, 0] == Z[i, 1]:\n",
    "        print(i)\n",
    "        print(Z[i, 0])\n",
    "    chosen.add(Z[i, 0])\n",
    "    chosen.add(Z[i, 1])\n",
    "    print(False)\n",
    "\n",
    "print(chosen)\n",
    "\n",
    "for i in range(0, 146):\n",
    "    if i not in chosen:\n",
    "        print(i)"
   ]
  },
  {
   "cell_type": "code",
   "execution_count": null,
   "id": "167fbcf9",
   "metadata": {},
   "outputs": [],
   "source": [
    "scipy.cluster.hierarchy.is_valid_linkage(new_linkage_matrix)"
   ]
  },
  {
   "cell_type": "code",
   "execution_count": null,
   "id": "9ba41a34",
   "metadata": {},
   "outputs": [],
   "source": [
    "r_dict = dendrogram(new_linkage_matrix, truncate_mode='level', p=51, distance_sort = \"ascending\", ax= axs[2])\n",
    "plt.show()"
   ]
  },
  {
   "cell_type": "code",
   "execution_count": null,
   "id": "049699f0",
   "metadata": {},
   "outputs": [],
   "source": []
  }
 ],
 "metadata": {
  "kernelspec": {
   "display_name": "Python 3",
   "language": "python",
   "name": "python3"
  },
  "language_info": {
   "codemirror_mode": {
    "name": "ipython",
    "version": 3
   },
   "file_extension": ".py",
   "mimetype": "text/x-python",
   "name": "python",
   "nbconvert_exporter": "python",
   "pygments_lexer": "ipython3",
   "version": "3.9.5"
  }
 },
 "nbformat": 4,
 "nbformat_minor": 5
}
