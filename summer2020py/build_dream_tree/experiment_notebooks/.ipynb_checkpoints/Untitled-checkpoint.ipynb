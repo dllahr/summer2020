{
 "cells": [
  {
   "cell_type": "code",
   "execution_count": null,
   "id": "468ce3d7",
   "metadata": {},
   "outputs": [],
   "source": [
    "%matplotlib notebook\n",
    "\n",
    "import cmapPy.pandasGEXpress.parse\n",
    "\n",
    "import cmapPy.math.fast_corr\n",
    "\n",
    "import plotly.express as pltexpr\n",
    "\n",
    "import sklearn.cluster\n",
    "\n",
    "import pandas as pd\n",
    "\n",
    "import numpy\n",
    "\n",
    "from matplotlib import pyplot as plt\n",
    "\n",
    "from scipy.cluster.hierarchy import dendrogram\n",
    "\n",
    "import scipy.cluster.hierarchy\n",
    "\n",
    "import json"
   ]
  },
  {
   "cell_type": "code",
   "execution_count": null,
   "id": "f1f76db7",
   "metadata": {},
   "outputs": [],
   "source": [
    "gctoo = cmapPy.pandasGEXpress.parse.parse(\"test\\\\2020_Q3_Achilles_CCLE_expression_r19144x1305.gctx\")\n",
    "print(gctoo)"
   ]
  },
  {
   "cell_type": "code",
   "execution_count": null,
   "id": "90a068e5",
   "metadata": {
    "scrolled": true
   },
   "outputs": [],
   "source": [
    "print(gctoo.data_df)"
   ]
  },
  {
   "cell_type": "code",
   "execution_count": null,
   "id": "156ce098",
   "metadata": {},
   "outputs": [],
   "source": [
    "sas_flipped_index = numpy.flip(list(gctoo.data_df.index))\n",
    "sas_flipped_col = numpy.flip(list(gctoo.data_df.columns))\n",
    "\n",
    "flipped_row = gctoo.data_df.loc[sas_flipped_index]\n",
    "flipped_df = flipped_row.loc[:, sas_flipped_col]"
   ]
  },
  {
   "cell_type": "code",
   "execution_count": null,
   "id": "b3df0583",
   "metadata": {
    "scrolled": true
   },
   "outputs": [],
   "source": [
    "print(flipped_df)"
   ]
  },
  {
   "cell_type": "code",
   "execution_count": null,
   "id": "27bc2599",
   "metadata": {},
   "outputs": [],
   "source": [
    "print(gctoo.row_metadata_df.loc[gctoo.row_metadata_df[\"gene_symbol\"] == \"MGST1\"])"
   ]
  },
  {
   "cell_type": "code",
   "execution_count": null,
   "id": "d4c7ffb1",
   "metadata": {},
   "outputs": [],
   "source": [
    "gctoo.data_df.index.tolist()"
   ]
  },
  {
   "cell_type": "code",
   "execution_count": null,
   "id": "d55c504d",
   "metadata": {},
   "outputs": [],
   "source": []
  }
 ],
 "metadata": {
  "kernelspec": {
   "display_name": "Python 3",
   "language": "python",
   "name": "python3"
  },
  "language_info": {
   "codemirror_mode": {
    "name": "ipython",
    "version": 3
   },
   "file_extension": ".py",
   "mimetype": "text/x-python",
   "name": "python",
   "nbconvert_exporter": "python",
   "pygments_lexer": "ipython3",
   "version": "3.9.5"
  }
 },
 "nbformat": 4,
 "nbformat_minor": 5
}
