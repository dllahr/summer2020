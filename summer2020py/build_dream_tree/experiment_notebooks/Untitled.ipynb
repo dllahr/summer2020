{
 "cells": [
  {
   "cell_type": "code",
   "execution_count": 1,
   "id": "468ce3d7",
   "metadata": {},
   "outputs": [],
   "source": [
    "%matplotlib notebook\n",
    "\n",
    "import cmapPy.pandasGEXpress.parse\n",
    "\n",
    "import cmapPy.math.fast_corr\n",
    "\n",
    "import plotly.express as pltexpr\n",
    "\n",
    "import sklearn.cluster\n",
    "\n",
    "import pandas as pd\n",
    "\n",
    "import numpy\n",
    "\n",
    "from matplotlib import pyplot as plt\n",
    "\n",
    "from scipy.cluster.hierarchy import dendrogram\n",
    "\n",
    "import scipy.cluster.hierarchy\n",
    "\n",
    "import json"
   ]
  },
  {
   "cell_type": "code",
   "execution_count": 4,
   "id": "f1f76db7",
   "metadata": {},
   "outputs": [
    {
     "name": "stdout",
     "output_type": "stream",
     "text": [
      "GCT1.3\n",
      "src: C:\\Users\\avsom\\Documents\\GitHub\\summer2020\\summer2020py\\build_dream_tree\\2020_Q3_Achilles_CCLE_expression_r19144x1305.gct\n",
      "data_df: [19144 rows x 1305 columns]\n",
      "row_metadata_df: [19144 rows x 1 columns]\n",
      "col_metadata_df: [1305 rows x 25 columns]\n"
     ]
    }
   ],
   "source": [
    "gctoo = cmapPy.pandasGEXpress.parse.parse(\"C:\\\\Users\\\\avsom\\\\Documents\\\\GitHub\\\\summer2020\\\\summer2020py\\\\build_dream_tree\\\\2020_Q3_Achilles_CCLE_expression_r19144x1305.gct\")\n",
    "print(gctoo)"
   ]
  },
  {
   "cell_type": "code",
   "execution_count": 5,
   "id": "90a068e5",
   "metadata": {
    "scrolled": true
   },
   "outputs": [
    {
     "name": "stdout",
     "output_type": "stream",
     "text": [
      "cid        ACH-001097  ACH-001636  ACH-001804  ACH-000534  ACH-001498  \\\n",
      "rid                                                                     \n",
      "7105           0.0000      0.0000      4.9350      0.8400      1.7442   \n",
      "64102          0.0000      0.0000      0.0000      0.0000      0.0000   \n",
      "8813           4.6673      6.1989      6.6355      5.3761      6.8467   \n",
      "57147          1.7613      2.0321      1.9298      2.6871      2.1473   \n",
      "55732          3.5546      3.7560      2.5033      4.4403      3.6668   \n",
      "...               ...         ...         ...         ...         ...   \n",
      "110599564      2.9800      4.3226      2.2839      1.3334      2.8278   \n",
      "6905           5.1330      4.1010      4.2884      4.8415      4.1875   \n",
      "112577462      0.0000      0.0000      0.0000      0.0000      0.0000   \n",
      "89839          0.4436      2.5898      0.4751      3.9050      1.4699   \n",
      "112577461      0.0000      0.2987      0.0000      0.0000      0.0000   \n",
      "\n",
      "cid        ACH-000742  ACH-002018  ACH-000836  ACH-000545  ACH-001617  ...  \\\n",
      "rid                                                                    ...   \n",
      "7105           3.7225      5.1210      4.6323      4.2517      0.0000  ...   \n",
      "64102          0.0000      0.0000      0.0000      0.0000      0.0000  ...   \n",
      "8813           6.0297      5.9891      6.7042      5.6511      6.9164  ...   \n",
      "57147          2.1922      1.8639      2.7929      3.4410      2.7225  ...   \n",
      "55732          2.5336      4.0356      4.0798      3.2750      4.1202  ...   \n",
      "...               ...         ...         ...         ...         ...  ...   \n",
      "110599564      1.5261      1.7137      2.9837      2.8992      4.0126  ...   \n",
      "6905           4.4944      4.2817      4.7436      5.4538      4.9667  ...   \n",
      "112577462      0.0000      0.0000      0.0000      0.0000      0.0000  ...   \n",
      "89839          0.9411      0.9184      2.6508      3.9505      1.2510  ...   \n",
      "112577461      0.0000      0.0000      0.7655      0.0000      0.0000  ...   \n",
      "\n",
      "cid        ACH-000916  ACH-000296  ACH-000978  ACH-000904  ACH-000110  \\\n",
      "rid                                                                     \n",
      "7105           4.9977      5.3823      5.0023      4.3169      5.2273   \n",
      "64102          0.0000      0.1506      0.0426      0.0286      0.0704   \n",
      "8813           5.8985      6.5517      6.5237      5.9910      6.7643   \n",
      "57147          3.8146      2.5922      2.6135      3.1859      3.5373   \n",
      "55732          3.4463      4.3526      3.2434      4.8465      4.4912   \n",
      "...               ...         ...         ...         ...         ...   \n",
      "110599564      3.8530      4.0807      3.7655      3.8319      4.6444   \n",
      "6905           5.1202      5.8140      5.3151      5.8829      4.6058   \n",
      "112577462      0.0000      0.0000      0.1110      0.0000      0.0000   \n",
      "89839          2.7203      1.1375      2.3840      3.0635      1.9069   \n",
      "112577461      0.0000      0.1890      0.0426      0.0000      0.0000   \n",
      "\n",
      "cid        ACH-000261  ACH-000031  ACH-000682  ACH-000561  ACH-000052  \n",
      "rid                                                                    \n",
      "7105           4.4476      4.7148      5.9764      5.1177      4.8709  \n",
      "64102          0.0286      0.0286      0.1243      0.0000      0.0000  \n",
      "8813           6.7489      6.7459      5.9834      5.7895      6.0775  \n",
      "57147          2.6508      2.7761      2.9392      3.2555      2.3045  \n",
      "55732          4.6076      3.6218      2.9184      3.1795      3.8369  \n",
      "...               ...         ...         ...         ...         ...  \n",
      "110599564      2.6159      4.4764      2.8718      4.9074      2.6182  \n",
      "6905           4.6135      4.4256      3.7835      4.2441      4.3052  \n",
      "112577462      0.0000      0.4222      0.0000      0.0000      0.0000  \n",
      "89839          2.4114      2.0144      1.5261      1.6826      2.6485  \n",
      "112577461      0.0426      0.0841      0.0000      0.0000      0.0000  \n",
      "\n",
      "[19144 rows x 1305 columns]\n"
     ]
    }
   ],
   "source": [
    "print(gctoo.data_df)"
   ]
  },
  {
   "cell_type": "code",
   "execution_count": 6,
   "id": "425197a9",
   "metadata": {},
   "outputs": [
    {
     "name": "stdout",
     "output_type": "stream",
     "text": [
      "cid\n",
      "ACH-001097    0.0286\n",
      "ACH-001636    5.9193\n",
      "ACH-001804    6.0475\n",
      "ACH-000534    2.1177\n",
      "ACH-001498    0.0000\n",
      "               ...  \n",
      "ACH-000261    7.6091\n",
      "ACH-000031    8.3859\n",
      "ACH-000682    0.8875\n",
      "ACH-000561    7.8679\n",
      "ACH-000052    4.1127\n",
      "Name: 4257, Length: 1305, dtype: float32\n"
     ]
    }
   ],
   "source": [
    "print(gctoo.data_df.loc[\"4257\"])"
   ]
  },
  {
   "cell_type": "code",
   "execution_count": null,
   "id": "156ce098",
   "metadata": {},
   "outputs": [],
   "source": [
    "sas_flipped_index = numpy.flip(list(gctoo.data_df.index))\n",
    "sas_flipped_col = numpy.flip(list(gctoo.data_df.columns))\n",
    "\n",
    "flipped_row = gctoo.data_df.loc[sas_flipped_index]\n",
    "flipped_df = flipped_row.loc[:, sas_flipped_col]"
   ]
  },
  {
   "cell_type": "code",
   "execution_count": null,
   "id": "b3df0583",
   "metadata": {
    "scrolled": true
   },
   "outputs": [],
   "source": [
    "print(flipped_df)"
   ]
  },
  {
   "cell_type": "code",
   "execution_count": null,
   "id": "27bc2599",
   "metadata": {},
   "outputs": [],
   "source": [
    "print(gctoo.row_metadata_df.loc[gctoo.row_metadata_df[\"gene_symbol\"] == \"MGST1\"])"
   ]
  },
  {
   "cell_type": "code",
   "execution_count": null,
   "id": "d4c7ffb1",
   "metadata": {},
   "outputs": [],
   "source": [
    "gctoo.data_df.index.tolist()"
   ]
  },
  {
   "cell_type": "code",
   "execution_count": null,
   "id": "d55c504d",
   "metadata": {},
   "outputs": [],
   "source": []
  }
 ],
 "metadata": {
  "kernelspec": {
   "display_name": "Python 3",
   "language": "python",
   "name": "python3"
  },
  "language_info": {
   "codemirror_mode": {
    "name": "ipython",
    "version": 3
   },
   "file_extension": ".py",
   "mimetype": "text/x-python",
   "name": "python",
   "nbconvert_exporter": "python",
   "pygments_lexer": "ipython3",
   "version": "3.9.5"
  }
 },
 "nbformat": 4,
 "nbformat_minor": 5
}
