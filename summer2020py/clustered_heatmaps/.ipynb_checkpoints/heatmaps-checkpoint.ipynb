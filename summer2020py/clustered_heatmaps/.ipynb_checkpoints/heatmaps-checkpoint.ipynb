{
 "cells": [
  {
   "cell_type": "markdown",
   "id": "0738d1ae",
   "metadata": {},
   "source": [
    "# Get data  \n",
    "Do pearson correlation between columns \n",
    "library dave wrote \n",
    "Parse to read GCT\n",
    "Math.fastcore \n",
    "Similarity matrix for columns \n",
    "Apply affinity prop to cluster columns \n",
    "Use ploty express to plot heatmap of similarity matrix but that cluster are next to eachother \n",
    "Doesn’t matter the order for the moment \n",
    "Affinity prop picks one of the samples in the cluster as the representative\n",
    "\n",
    "K-means gives average of ones of the cluster \n",
    "Hover text on the ones that are representative \n",
    "\n",
    "Next steps\n",
    "Ward Hierarchical clustering of columns on similarity matrix \n",
    "  \n",
    "Data df row metadata and column meta data \n"
   ]
  },
  {
   "cell_type": "code",
   "execution_count": null,
   "id": "29f918b7",
   "metadata": {},
   "outputs": [],
   "source": [
    "%matplotlib notebook\n",
    "\n",
    "import cmapPy.pandasGEXpress.parse\n",
    "\n",
    "import cmapPy.math.fast_corr\n",
    "\n",
    "import plotly.express as pltexpr\n",
    "\n",
    "import sklearn.cluster\n",
    "\n",
    "import pandas as pd\n",
    "\n",
    "import numpy\n",
    "\n",
    "from matplotlib import pyplot as plt\n",
    "from scipy.cluster.hierarchy import dendrogram\n",
    "\n",
    "import json\n"
   ]
  },
  {
   "cell_type": "code",
   "execution_count": null,
   "id": "49539605",
   "metadata": {},
   "outputs": [],
   "source": [
    "output_dir = \"\"\n",
    "input_file = \"\"\n",
    "what_to_save = \"\""
   ]
  },
  {
   "cell_type": "code",
   "execution_count": null,
   "id": "611dfa6e",
   "metadata": {},
   "outputs": [],
   "source": [
    "gctoo = cmapPy.pandasGEXpress.parse.parse(\"2020_Q3_Achilles_CCLE_expression_r19144x1305.gctx\")\n",
    "print(gctoo)"
   ]
  },
  {
   "cell_type": "code",
   "execution_count": null,
   "id": "9df0dc55",
   "metadata": {},
   "outputs": [],
   "source": []
  },
  {
   "cell_type": "code",
   "execution_count": null,
   "id": "72aa05a1",
   "metadata": {},
   "outputs": [],
   "source": [
    "numpy_df = gctoo.data_df.to_numpy()\n",
    "\n",
    "result = cmapPy.math.fast_corr.fast_corr(numpy_df)\n",
    "\n"
   ]
  },
  {
   "cell_type": "code",
   "execution_count": null,
   "id": "3466c24e",
   "metadata": {},
   "outputs": [],
   "source": [
    "print(result)"
   ]
  },
  {
   "cell_type": "code",
   "execution_count": null,
   "id": "60725ed4",
   "metadata": {},
   "outputs": [],
   "source": [
    "#numpy.savetxt(\"result\", result)"
   ]
  },
  {
   "cell_type": "code",
   "execution_count": null,
   "id": "29906671",
   "metadata": {},
   "outputs": [],
   "source": [
    "pd.DataFrame(result).to_csv(\"result2\", sep=\"\\t\")"
   ]
  },
  {
   "cell_type": "code",
   "execution_count": null,
   "id": "69bd1e2f",
   "metadata": {},
   "outputs": [],
   "source": [
    "fig = pltexpr.imshow(result, title=\"graph of pearson correlation matrix\")\n",
    "\n",
    "fig.show()"
   ]
  },
  {
   "cell_type": "code",
   "execution_count": null,
   "id": "438fc290",
   "metadata": {},
   "outputs": [],
   "source": [
    "ward_clusters = sklearn.cluster.AgglomerativeClustering(affinity = \"euclidean\", n_clusters = 1304, linkage = \"average\", compute_full_tree = True, compute_distances = True).fit(result)"
   ]
  },
  {
   "cell_type": "code",
   "execution_count": null,
   "id": "1dfd61b6",
   "metadata": {},
   "outputs": [],
   "source": [
    "def plot_dendrogram(model, **kwargs):\n",
    "    # Create linkage matrix and then plot the dendrogram\n",
    "\n",
    "    # create the counts of samples under each node\n",
    "    counts = numpy.zeros(model.children_.shape[0])\n",
    "    n_samples = len(model.labels_)\n",
    "    for i, merge in enumerate(model.children_):\n",
    "        current_count = 0\n",
    "        for child_idx in merge:\n",
    "            if child_idx < n_samples:\n",
    "                current_count += 1  # leaf node\n",
    "            else:\n",
    "                current_count += counts[child_idx - n_samples]\n",
    "        counts[i] = current_count\n",
    "\n",
    "    linkage_matrix = numpy.column_stack([model.children_, model.distances_,\n",
    "                                      counts]).astype(float)\n",
    "    \n",
    "    print(linkage_matrix)\n",
    "\n",
    "    # Plot the corresponding dendrogram\n",
    "    r_dict = dendrogram(linkage_matrix, **kwargs)\n",
    "\n",
    "    \n",
    "    \n",
    "    return linkage_matrix, list(map(int, r_dict[\"ivl\"])), r_dict[\"leaves\"]\n",
    "\n",
    "# from https://scikit-learn.org/stable/auto_examples/cluster/plot_agglomerative_dendrogram.html#sphx-glr-auto-examples-cluster-plot-agglomerative-dendrogram-py"
   ]
  },
  {
   "cell_type": "code",
   "execution_count": null,
   "id": "a68e6814",
   "metadata": {
    "scrolled": false
   },
   "outputs": [],
   "source": [
    "fig, axs = plt.subplots(4,1)\n",
    "\n",
    "plt.title('Hierarchical Clustering Dendrogram')\n",
    "# plot the top three levels of the dendrogram\n",
    "linkage_matrix, dendro_labels, leaves = plot_dendrogram(ward_clusters, truncate_mode='level', p=51, distance_sort = \"ascending\", ax=axs[0])\n",
    "plt.xlabel(\"Number of points in node (or index of point if no parenthesis).\")\n",
    "plt.show()"
   ]
  },
  {
   "cell_type": "code",
   "execution_count": null,
   "id": "cbef9a38",
   "metadata": {},
   "outputs": [],
   "source": [
    "print(pd.DataFrame(linkage_matrix))"
   ]
  },
  {
   "cell_type": "code",
   "execution_count": null,
   "id": "c3ed4346",
   "metadata": {
    "scrolled": true
   },
   "outputs": [],
   "source": [
    "print(dendro_labels)\n",
    "\n",
    "dendro_labels_index = []\n",
    "\n",
    "for i in range(0, len(dendro_labels)):\n",
    "    dendro_labels_index.append(dendro_labels.index(i))\n",
    "    \n",
    "\n",
    "print(dendro_labels_index)\n",
    "    \n",
    "    "
   ]
  },
  {
   "cell_type": "code",
   "execution_count": null,
   "id": "878fa7fa",
   "metadata": {
    "scrolled": true
   },
   "outputs": [],
   "source": [
    "\n",
    "result_df = pd.DataFrame(result)\n",
    "\n",
    "dendro_labels_df = pd.DataFrame(dendro_labels_index)\n",
    "\n",
    "dendro_labels_df.rename(columns = {0:1305}, inplace = True)\n",
    "\n",
    "transposed_dendro_labels_df = dendro_labels_df.transpose()\n",
    "transposed_dendro_labels_df.insert(1305, 1305, -1)\n",
    "\n",
    "print(result_df)\n",
    "print(dendro_labels_df)\n",
    "print(transposed_dendro_labels_df)\n"
   ]
  },
  {
   "cell_type": "code",
   "execution_count": null,
   "id": "dba010be",
   "metadata": {
    "scrolled": true
   },
   "outputs": [],
   "source": [
    "dendro_column_label_df = result_df.join(dendro_labels_df)\n",
    "df_1306 = dendro_column_label_df.append(transposed_dendro_labels_df, ignore_index=True)\n",
    "\n",
    "print(df_1306)\n"
   ]
  },
  {
   "cell_type": "code",
   "execution_count": null,
   "id": "9a536aca",
   "metadata": {},
   "outputs": [],
   "source": [
    "dendro_col_sorted = df_1306.sort_values(1305)\n",
    "\n",
    "dendro_sorted_df = dendro_col_sorted.sort_values(1305, axis = 1)\n",
    "\n",
    "print(dendro_col_sorted)\n",
    "print(dendro_sorted_df)\n",
    "\n",
    "dendro_sorted_df = dendro_sorted_df.drop(1305, axis = 0)\n",
    "dendro_sorted_df = dendro_sorted_df.drop(1305, axis = 1)\n",
    "\n",
    "print(dendro_sorted_df)"
   ]
  },
  {
   "cell_type": "code",
   "execution_count": null,
   "id": "f375568a",
   "metadata": {},
   "outputs": [],
   "source": [
    "flpped_dendro_sorted_numpy = numpy.flip(dendro_sorted_df.to_numpy())"
   ]
  },
  {
   "cell_type": "code",
   "execution_count": null,
   "id": "4815e116",
   "metadata": {},
   "outputs": [],
   "source": [
    "fig4 = pltexpr.imshow(flpped_dendro_sorted_numpy, title=\"graph of Hierarchical Clustering data done by using df\")\n",
    "fig4.show()"
   ]
  },
  {
   "cell_type": "code",
   "execution_count": null,
   "id": "d21bcf45",
   "metadata": {},
   "outputs": [],
   "source": [
    "#pd.DataFrame(dendro_sorted_df).to_csv(\"dendro_sorted_df\", sep=\"\\t\")"
   ]
  },
  {
   "cell_type": "code",
   "execution_count": null,
   "id": "595b65b1",
   "metadata": {},
   "outputs": [],
   "source": [
    "#pd.DataFrame(flpped_dendro_sorted_numpy).to_csv(\"flipped_dendro_sorted_df\", sep = \"\\t\")"
   ]
  },
  {
   "cell_type": "code",
   "execution_count": null,
   "id": "77c3d0db",
   "metadata": {},
   "outputs": [],
   "source": [
    "import scipy.cluster.hierarchy"
   ]
  },
  {
   "cell_type": "code",
   "execution_count": null,
   "id": "d823ac7c",
   "metadata": {},
   "outputs": [],
   "source": [
    "from scipy.cluster import hierarchy\n",
    "def getNewick(node, newick, parentdist, leaf_names):\n",
    "    if node.is_leaf():\n",
    "        return \"%s:%.2f%s\" % (leaf_names[node.id], parentdist - node.dist, newick)\n",
    "    else:\n",
    "        if len(newick) > 0:\n",
    "            newick = \"):%.2f%s\" % (parentdist - node.dist, newick)\n",
    "        else:\n",
    "            newick = \");\"\n",
    "        newick = getNewick(node.get_left(), newick, node.dist, leaf_names)\n",
    "        newick = getNewick(node.get_right(), \",%s\" % (newick), node.dist, leaf_names)\n",
    "        newick = \"(%s\" % (newick)\n",
    "        return newick\n",
    "#from https://stackoverflow.com/questions/28222179/save-dendrogram-to-newick-format/31878514#31878514 \n",
    "\n",
    "tree = hierarchy.to_tree(linkage_matrix,False)\n",
    "newick = getNewick(tree, \"\", tree.dist, leaves)"
   ]
  },
  {
   "cell_type": "code",
   "execution_count": null,
   "id": "ff62d399",
   "metadata": {},
   "outputs": [],
   "source": [
    "print(flpped_dendro_sorted_numpy)"
   ]
  },
  {
   "cell_type": "code",
   "execution_count": null,
   "id": "ab37a851",
   "metadata": {},
   "outputs": [],
   "source": [
    "import json"
   ]
  },
  {
   "cell_type": "code",
   "execution_count": null,
   "id": "32f95fc8",
   "metadata": {},
   "outputs": [],
   "source": [
    "template_file = open(\"template.json\", \"r\")\n",
    "json_object = json.load(template_file)\n",
    "template_file.close()\n",
    "\n",
    "json_object[\"columnDendrogram\"] = newick\n",
    "json_object[\"rowDendrogram\"] = newick\n",
    "\n",
    "dataset = json_object[\"dataset\"]\n",
    "print(dataset)\n",
    "\n",
    "dataset[\"rows\"] = len(flpped_dendro_sorted_numpy[0])\n",
    "dataset[\"columns\"] = len(flpped_dendro_sorted_numpy)\n",
    "\n",
    "dataset[\"seriesArrays\"] = [flpped_dendro_sorted_numpy.tolist()]\n",
    "\n",
    "dataset[\"rowMetadataModel\"][\"vectors\"][0][\"array\"] = dendro_labels\n",
    "dataset[\"columnMetadataModel\"][\"vectors\"][0][\"array\"] = dendro_labels     \n",
    "\n",
    "\n",
    "\n",
    "output_file = open(\"output_file.json\", \"w\")\n",
    "json.dump(json_object, output_file)\n",
    "output_file.close()"
   ]
  },
  {
   "cell_type": "code",
   "execution_count": null,
   "id": "022350a6",
   "metadata": {},
   "outputs": [],
   "source": []
  },
  {
   "cell_type": "code",
   "execution_count": null,
   "id": "298c2dc7",
   "metadata": {},
   "outputs": [],
   "source": [
    "AffinityProp = sklearn.cluster.AffinityPropagation(affinity = \"precomputed\").fit(result)\n",
    "\n",
    "print(\"ran\")\n",
    "print(AffinityProp)"
   ]
  },
  {
   "cell_type": "code",
   "execution_count": null,
   "id": "7292c059",
   "metadata": {},
   "outputs": [],
   "source": [
    "print(AffinityProp.labels_)\n",
    "print(AffinityProp.cluster_centers_indices_)"
   ]
  },
  {
   "cell_type": "code",
   "execution_count": null,
   "id": "b72f3468",
   "metadata": {},
   "outputs": [],
   "source": [
    "\n",
    "print(len(AffinityProp.cluster_centers_indices_))"
   ]
  },
  {
   "cell_type": "code",
   "execution_count": null,
   "id": "d3f71485",
   "metadata": {
    "scrolled": true
   },
   "outputs": [],
   "source": [
    "result_df = pd.DataFrame(result)\n",
    "\n",
    "labels_df = pd.DataFrame(AffinityProp.labels_)\n",
    "labels_df.rename(columns = {0:1305}, inplace = True)\n",
    "\n",
    "transposed_labels_df = labels_df.transpose()\n",
    "\n",
    "transposed_labels_df.insert(1305, 1305, 44)\n",
    "\n",
    "print(result_df)\n",
    "print(labels_df)\n",
    "print(transposed_labels_df)\n",
    "\n",
    "column_label_df = result_df.join(labels_df)\n",
    "\n",
    "label_df = column_label_df.append(transposed_labels_df, ignore_index=True)\n",
    "\n",
    "print(label_df)\n",
    "\n",
    "col_sorted = label_df.sort_values(1305)\n",
    "\n",
    "sorted_df = col_sorted.sort_values(1305, axis = 1)\n",
    "\n",
    "print(col_sorted)\n",
    "print(sorted_df)\n",
    "\n",
    "sorted_df = sorted_df.drop(1305, axis = 0)\n",
    "sorted_df = sorted_df.drop(1305, axis = 1)\n",
    "\n",
    "print(sorted_df)\n",
    "\n"
   ]
  },
  {
   "cell_type": "code",
   "execution_count": null,
   "id": "69b07d39",
   "metadata": {},
   "outputs": [],
   "source": [
    "#converting to numpy so the messed up column and index values are ignored when making the fig\n",
    "\n",
    "sorted_numpy_df = sorted_df.to_numpy()\n",
    "print(sorted_numpy_df)"
   ]
  },
  {
   "cell_type": "code",
   "execution_count": null,
   "id": "b1f37896",
   "metadata": {},
   "outputs": [],
   "source": [
    "pd.DataFrame(sorted_numpy_df).to_csv(\"sorted_affinity_prop\", sep=\"\\t\")"
   ]
  },
  {
   "cell_type": "code",
   "execution_count": null,
   "id": "eafc4a7c",
   "metadata": {
    "scrolled": false
   },
   "outputs": [],
   "source": [
    "\n",
    "\n",
    "fig3 = pltexpr.imshow(sorted_numpy_df, title=\"graph of grouped data done by using df\")\n",
    "fig3.show()\n"
   ]
  },
  {
   "cell_type": "code",
   "execution_count": null,
   "id": "1e1de879",
   "metadata": {},
   "outputs": [],
   "source": [
    "cluster_centers = []\n",
    "\n",
    "print(AffinityProp.cluster_centers_indices_)\n",
    "for i in range (0, len(AffinityProp.cluster_centers_indices_)):\n",
    "    cluster_centers.append(result[AffinityProp.cluster_centers_indices_[i]])\n",
    "    \n",
    "\n"
   ]
  },
  {
   "cell_type": "code",
   "execution_count": null,
   "id": "70ebce0d",
   "metadata": {},
   "outputs": [],
   "source": [
    "ward_super_clusters = sklearn.cluster.AgglomerativeClustering(affinity = \"euclidean\", n_clusters = 71, linkage = \"average\", compute_full_tree = True, compute_distances = True).fit(cluster_centers)"
   ]
  },
  {
   "cell_type": "code",
   "execution_count": null,
   "id": "fdb9418b",
   "metadata": {
    "scrolled": true
   },
   "outputs": [],
   "source": [
    "super_linkage_matrix, super_dendro_labels, super_leaves = plot_dendrogram(ward_super_clusters, truncate_mode='level', p=51, distance_sort = \"ascending\", ax=axs[1])\n",
    "plt.show()"
   ]
  },
  {
   "cell_type": "code",
   "execution_count": null,
   "id": "1206c2ba",
   "metadata": {},
   "outputs": [],
   "source": [
    "print(super_dendro_labels)\n",
    "\n",
    "super_dendro_labels_index = []\n",
    "\n",
    "for i in range(0, len(super_dendro_labels)):\n",
    "    super_dendro_labels_index.append(super_dendro_labels.index(i))\n",
    "    \n",
    "\n",
    "print(super_dendro_labels_index)"
   ]
  },
  {
   "cell_type": "code",
   "execution_count": null,
   "id": "f51b1e59",
   "metadata": {},
   "outputs": [],
   "source": [
    "print(AffinityProp.cluster_centers_indices_)"
   ]
  },
  {
   "cell_type": "code",
   "execution_count": null,
   "id": "4c26dd42",
   "metadata": {
    "scrolled": true
   },
   "outputs": [],
   "source": [
    "print(label_df)\n",
    "\n",
    "#list comperhension \n",
    "#then add col\n",
    "\n",
    "\n",
    "for i in range(0, 1306):\n",
    "    val = label_df.loc[i, (1305)]\n",
    "    label_df.loc[i, (1305)] = super_dendro_labels_index[val]\n",
    "    label_df.loc[1305, (i)] = super_dendro_labels_index[val]\n",
    "    \n",
    "    \n",
    "super_col_sorted = label_df.sort_values(1305)\n",
    "\n",
    "super_sorted_df = super_col_sorted.sort_values(1305, axis = 1)\n",
    "\n",
    "print(super_col_sorted)\n",
    "print(super_sorted_df)\n",
    "\n",
    "super_sorted_df = super_sorted_df.drop(1305, axis = 0)\n",
    "super_sorted_df = super_sorted_df.drop(1305, axis = 1)\n",
    "\n",
    "print(super_sorted_df)"
   ]
  },
  {
   "cell_type": "code",
   "execution_count": null,
   "id": "434f004a",
   "metadata": {},
   "outputs": [],
   "source": [
    "fig_super = pltexpr.imshow(super_sorted_df.to_numpy(), title=\"graph of grouped data done by using df then reps Hierarchical Clustered\")\n",
    "fig_super.show()"
   ]
  },
  {
   "cell_type": "code",
   "execution_count": null,
   "id": "7e666945",
   "metadata": {
    "scrolled": true
   },
   "outputs": [],
   "source": [
    "for cluster in range(0, len(super_dendro_labels_index)):\n",
    "    print(cluster)"
   ]
  },
  {
   "cell_type": "code",
   "execution_count": null,
   "id": "d4037b58",
   "metadata": {},
   "outputs": [],
   "source": [
    "sorted_with_labels = super_col_sorted.sort_values(1305, axis = 1)\n",
    "\n",
    "sub_cluster = sorted_with_labels.loc[sorted_with_labels[1305] == 0]\n",
    "print(sub_cluster)\n",
    "ward_sub_cluster = sklearn.cluster.AgglomerativeClustering(affinity = \"euclidean\", n_clusters = len(sub_cluster)-1, linkage = \"average\", compute_full_tree = True, compute_distances = True).fit(sub_cluster)"
   ]
  },
  {
   "cell_type": "code",
   "execution_count": null,
   "id": "3ffea859",
   "metadata": {
    "scrolled": true
   },
   "outputs": [],
   "source": [
    "\n",
    "sub_linkage_matrix, sub_dendro_labels, sub_leaves = plot_dendrogram(ward_sub_cluster, truncate_mode='level', p=51, distance_sort = \"ascending\", ax= axs[2])\n",
    "plt.show()"
   ]
  },
  {
   "cell_type": "code",
   "execution_count": null,
   "id": "ca185bc1",
   "metadata": {},
   "outputs": [],
   "source": [
    "df_super_linkage_matrix = pd.DataFrame(super_linkage_matrix)\n",
    "print(df_super_linkage_matrix)"
   ]
  },
  {
   "cell_type": "code",
   "execution_count": null,
   "id": "db2aeb15",
   "metadata": {},
   "outputs": [],
   "source": [
    "df_sub_linkage_matrix = pd.DataFrame(sub_linkage_matrix)\n",
    "print(df_sub_linkage_matrix)"
   ]
  },
  {
   "cell_type": "code",
   "execution_count": null,
   "id": "431797e0",
   "metadata": {},
   "outputs": [],
   "source": [
    "current_sub = 0\n",
    "\n",
    "where = df_super_linkage_matrix.loc[df_super_linkage_matrix[0] == current_sub]\n",
    "print(where.index[0])\n",
    "print(where.index.to_numpy()[0])"
   ]
  },
  {
   "cell_type": "code",
   "execution_count": null,
   "id": "0cd908b1",
   "metadata": {},
   "outputs": [],
   "source": [
    "n_super_samples = len(df_super_linkage_matrix)"
   ]
  },
  {
   "cell_type": "code",
   "execution_count": null,
   "id": "85d9474b",
   "metadata": {},
   "outputs": [],
   "source": [
    "print(df_sub_linkage_matrix) "
   ]
  },
  {
   "cell_type": "code",
   "execution_count": null,
   "id": "57858c39",
   "metadata": {},
   "outputs": [],
   "source": [
    "n_sub_samples = len(df_sub_linkage_matrix)\n",
    "new_location = where.index[0]\n",
    "\n",
    "for i in range(0, n_sub_samples):\n",
    "    zero_leaf = df_sub_linkage_matrix[0][i]\n",
    "    one_leaf = df_sub_linkage_matrix[1][i]\n",
    "    if zero_leaf > n_sub_samples:\n",
    "        #something to change it so it can be added to linkage_matrix\n",
    "        df_sub_linkage_matrix[0][i] = zero_leaf + n_super_samples + new_location\n",
    "        \n",
    "    else:\n",
    "        df_sub_linkage_matrix[0][i] = sub_cluster.index[int(zero_leaf)]\n",
    "        \n",
    "    if one_leaf > n_sub_samples:\n",
    "        #something to change it so it can be added to linkage_matrix\n",
    "        df_sub_linkage_matrix[1][i] = one_leaf  + n_super_samples + new_location\n",
    "        \n",
    "    else:\n",
    "        df_sub_linkage_matrix[1][i] = sub_cluster.index[int(one_leaf)]\n",
    "        \n",
    "df_sub_linkage_matrix.index = df_sub_linkage_matrix.index + new_location\n",
    "\n",
    "df_sub_linkage_matrix.at[70, 0] = 72\n",
    "df_sub_linkage_matrix.at[70, 1] = 73\n",
    "\n",
    "\n",
    "        \n",
    "print(df_sub_linkage_matrix) \n",
    "        "
   ]
  },
  {
   "cell_type": "code",
   "execution_count": null,
   "id": "5fbc1baa",
   "metadata": {},
   "outputs": [],
   "source": [
    "print(df_sub_linkage_matrix.index[0])\n",
    "print(where.loc[where.index[0], 0])\n",
    "\n",
    "\n",
    "\n",
    "where.at[new_location, 0] =  new_location + n_super_samples + (2 * n_sub_samples)\n",
    "where.at[new_location, 1] =  where.loc[new_location, 1] + n_sub_samples\n",
    "where.at[new_location, 3] =  where.loc[new_location, 3] + n_sub_samples\n",
    "\n",
    "\n",
    "total_sub = pd.DataFrame(where.to_numpy(), index = [where.index[0] + n_sub_samples])\n",
    "\n",
    "print(where)\n",
    "print(total_sub)"
   ]
  },
  {
   "cell_type": "code",
   "execution_count": null,
   "id": "8db3a40b",
   "metadata": {},
   "outputs": [],
   "source": [
    "print(new_location)"
   ]
  },
  {
   "cell_type": "code",
   "execution_count": null,
   "id": "bbd05e7d",
   "metadata": {},
   "outputs": [],
   "source": [
    "total_sub = df_sub_linkage_matrix.append(total_sub)"
   ]
  },
  {
   "cell_type": "code",
   "execution_count": null,
   "id": "7df798a0",
   "metadata": {},
   "outputs": [],
   "source": [
    "print(df_super_linkage_matrix)"
   ]
  },
  {
   "cell_type": "code",
   "execution_count": null,
   "id": "27a127cf",
   "metadata": {
    "scrolled": true
   },
   "outputs": [],
   "source": [
    "for i in range(0, len(df_super_linkage_matrix)):\n",
    "    print(df_super_linkage_matrix[1][i])"
   ]
  },
  {
   "cell_type": "code",
   "execution_count": null,
   "id": "32ce517d",
   "metadata": {},
   "outputs": [],
   "source": [
    "for i in range(0, n_super_samples):\n",
    "    zero_leaf = df_super_linkage_matrix[0][i]\n",
    "    one_leaf = df_super_linkage_matrix[1][i]\n",
    "    if zero_leaf > n_super_samples:\n",
    "        df_super_linkage_matrix[0][i] = df_super_linkage_matrix[0][i] + n_sub_samples\n",
    " \n",
    "    if one_leaf > n_super_samples:\n",
    "        df_super_linkage_matrix[1][i] = df_super_linkage_matrix[1][i] + n_sub_samples\n",
    "        "
   ]
  },
  {
   "cell_type": "code",
   "execution_count": null,
   "id": "dbf450f4",
   "metadata": {},
   "outputs": [],
   "source": [
    "print(df_super_linkage_matrix)"
   ]
  },
  {
   "cell_type": "code",
   "execution_count": null,
   "id": "562c9ffd",
   "metadata": {
    "scrolled": true
   },
   "outputs": [],
   "source": [
    "for i in range(0, len(df_super_linkage_matrix)):\n",
    "    print(df_super_linkage_matrix[1][i])"
   ]
  },
  {
   "cell_type": "code",
   "execution_count": null,
   "id": "14645a3f",
   "metadata": {},
   "outputs": [],
   "source": [
    "df_super_linkage_matrix.drop(new_location, inplace = True)\n",
    "\n",
    "new_linkage_matrix = df_super_linkage_matrix.append(total_sub)\n"
   ]
  },
  {
   "cell_type": "code",
   "execution_count": null,
   "id": "0603d2d9",
   "metadata": {},
   "outputs": [],
   "source": [
    "print(new_linkage_matrix)"
   ]
  },
  {
   "cell_type": "code",
   "execution_count": null,
   "id": "93520792",
   "metadata": {
    "scrolled": true
   },
   "outputs": [],
   "source": [
    "Z = numpy.asarray(new_linkage_matrix, order='c')\n",
    "\n",
    "n = Z.shape[0] + 1\n",
    "for i in range(0, n - 1):\n",
    "    if Z[i, 0] >= n + i or Z[i, 1] >= n + i:\n",
    "        print(i)\n",
    "    else:\n",
    "        print(False)"
   ]
  },
  {
   "cell_type": "code",
   "execution_count": null,
   "id": "c5e8d181",
   "metadata": {
    "scrolled": true
   },
   "outputs": [],
   "source": [
    "n = Z.shape[0] + 1\n",
    "chosen = set([])\n",
    "for i in range(0, n - 1):\n",
    "    if (Z[i, 0] in chosen) or (Z[i, 1] in chosen) or Z[i, 0] == Z[i, 1]:\n",
    "        print(True)\n",
    "    chosen.add(Z[i, 0])\n",
    "    chosen.add(Z[i, 1])\n",
    "    print(False)"
   ]
  },
  {
   "cell_type": "code",
   "execution_count": null,
   "id": "0fad902b",
   "metadata": {},
   "outputs": [],
   "source": [
    "scipy.cluster.hierarchy.is_valid_linkage(new_linkage_matrix)"
   ]
  },
  {
   "cell_type": "code",
   "execution_count": null,
   "id": "89a80ee5",
   "metadata": {},
   "outputs": [],
   "source": [
    "r_dict = dendrogram(new_linkage_matrix, truncate_mode='level', p=51, distance_sort = \"ascending\", ax= axs[3])\n",
    "plt.show()"
   ]
  },
  {
   "cell_type": "code",
   "execution_count": null,
   "id": "0bc9ae0a",
   "metadata": {},
   "outputs": [],
   "source": []
  }
 ],
 "metadata": {
  "kernelspec": {
   "display_name": "Python 3",
   "language": "python",
   "name": "python3"
  },
  "language_info": {
   "codemirror_mode": {
    "name": "ipython",
    "version": 3
   },
   "file_extension": ".py",
   "mimetype": "text/x-python",
   "name": "python",
   "nbconvert_exporter": "python",
   "pygments_lexer": "ipython3",
   "version": "3.9.5"
  }
 },
 "nbformat": 4,
 "nbformat_minor": 5
}
